{
 "cells": [
  {
   "cell_type": "markdown",
   "metadata": {},
   "source": [
    "# Assignments 22 - CLI\n"
   ]
  },
  {
   "cell_type": "markdown",
   "metadata": {},
   "source": [
    "## 22.1\n",
    "- Add the following features to the ToDo List software:\n",
    "Tick tasks (done in database and UPDATE database)\n",
    "Deleting tasks (DELETE in the database)\n",
    "Sorting the display as done tasks at the bottom and undone tasks at the top\n",
    "Adding the Priority column to the tasks table, to specify important tasks from normal tasks. Display this theme in ui with different colors. For example, normal tasks are white and important tasks are red.\n",
    "In the add new task section, define a field to receive the date and time from the user.\n",
    "If we click on a task, the details of its description and time will be displayed.\n",
    "Beautiful flowers\n",
    "Making the exe executable file of the software using pyinstaller\n"
   ]
  },
  {
   "cell_type": "code",
   "execution_count": null,
   "metadata": {
    "vscode": {
     "languageId": "plaintext"
    }
   },
   "outputs": [],
   "source": [
    "#code"
   ]
  }
 ],
 "metadata": {
  "kernelspec": {
   "display_name": "Pylearn",
   "language": "python",
   "name": "python3"
  },
  "language_info": {
   "codemirror_mode": {
    "name": "ipython",
    "version": 3
   },
   "file_extension": ".py",
   "mimetype": "text/x-python",
   "name": "python",
   "nbconvert_exporter": "python",
   "pygments_lexer": "ipython3",
   "version": "3.11.5"
  }
 },
 "nbformat": 4,
 "nbformat_minor": 2
}
