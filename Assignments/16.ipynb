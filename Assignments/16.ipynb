{
 "cells": [
  {
   "cell_type": "markdown",
   "metadata": {},
   "source": [
    "# Assignments 16 - CLI\n"
   ]
  },
  {
   "cell_type": "markdown",
   "metadata": {},
   "source": [
    "### Persian Doc\n",
    "\n",
    "<div style=\"direction:rtl\"> \n",
    "بازی Pong 🏓\n",
    "تکمیل حرکت راکت سمت راست بر اساس هوش مصنوعی ساده\n",
    "نمایش امتیاز بازیکنان بر روی صفحه به صورت متن درشت\n",
    "\n",
    "۲- طراحی بازی breakout یا arkanoid\n",
    "اگر توپ از پایین کادر خارج شد، یک امتیاز کاهش داده می شود.\n",
    "اگر سه بار توپ از پایین کادر خارج شد، game over می شود.\n",
    "حرکت راکت هم با کیبورد و هم با ماوس امکان پذیر باشد.\n",
    "\n",
    "\n",
    "\n",
    "\n",
    "</div>"
   ]
  },
  {
   "cell_type": "markdown",
   "metadata": {},
   "source": [
    "## 16.1\n",
    "\n"
   ]
  }
 ],
 "metadata": {
  "kernelspec": {
   "display_name": "Pylearn",
   "language": "python",
   "name": "python3"
  },
  "language_info": {
   "codemirror_mode": {
    "name": "ipython",
    "version": 3
   },
   "file_extension": ".py",
   "mimetype": "text/x-python",
   "name": "python",
   "nbconvert_exporter": "python",
   "pygments_lexer": "ipython3",
   "version": "3.11.5"
  }
 },
 "nbformat": 4,
 "nbformat_minor": 2
}
