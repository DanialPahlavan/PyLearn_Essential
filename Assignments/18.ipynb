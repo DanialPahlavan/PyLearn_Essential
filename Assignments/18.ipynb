{
 "cells": [
  {
   "cell_type": "markdown",
   "metadata": {},
   "source": [
    "# Assignments 18 - CLI\n"
   ]
  },
  {
   "cell_type": "markdown",
   "metadata": {},
   "source": [
    "### Persian Doc\n",
    "\n",
    "<div style=\"direction:rtl\"> \n",
    " افزودن قابلیت های زیر به ماشین حساب:\n",
    "چیدمان Grid Layout\n",
    "استفاده از partial برای ادغام توابع و جلوگیری از کدنویسی تکراری\n",
    "۲- افزودن قابلیت های زیر به بازی Tic Tac Toe ⭕️❌:\n",
    "بررسی تمام حالت های برنده شدن و تساوی\n",
    "پیاده سازی دکمه new game\n",
    "حالت player vs cpu و player vs player به کمک radio button\n",
    "دکمه about\n",
    "طراحی scoreboard برای نمایش تعداد برد و باخت و تساوی\n",
    "طراحی زیبا\n",
    "\n",
    "\n",
    "</div>"
   ]
  },
  {
   "cell_type": "markdown",
   "metadata": {},
   "source": [
    "## 18.1\n",
    "\n"
   ]
  }
 ],
 "metadata": {
  "kernelspec": {
   "display_name": "Pylearn",
   "language": "python",
   "name": "python3"
  },
  "language_info": {
   "codemirror_mode": {
    "name": "ipython",
    "version": 3
   },
   "file_extension": ".py",
   "mimetype": "text/x-python",
   "name": "python",
   "nbconvert_exporter": "python",
   "pygments_lexer": "ipython3",
   "version": "3.11.5"
  }
 },
 "nbformat": 4,
 "nbformat_minor": 2
}
