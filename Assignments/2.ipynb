{
 "cells": [
  {
   "cell_type": "markdown",
   "metadata": {},
   "source": [
    "# Assignments 1 - CLI\n"
   ]
  },
  {
   "cell_type": "markdown",
   "metadata": {},
   "source": [
    "## 1.1\n",
    "\n",
    "In the guess number game, after winning, you print the number of user's guesses."
   ]
  },
  {
   "cell_type": "code",
   "execution_count": 18,
   "metadata": {},
   "outputs": [
    {
     "name": "stdout",
     "output_type": "stream",
     "text": [
      "Welcome to Guess Game\n",
      "the Random number is between 1-50\n",
      "Your Guess is smaller than it\n",
      "Your Guess is smaller than it\n",
      "Your Guess is smaller than it\n",
      "Your Guess is bigger than it\n",
      "Your Guess is bigger than it\n",
      "Your Guess is bigger than it\n",
      "Your Guess is bigger than it\n",
      "Your Guess is bigger than it\n",
      "Your Guess is bigger than it\n",
      "Your Guess is bigger than it\n",
      "Win\n",
      "Your Guess 11\n"
     ]
    }
   ],
   "source": [
    "import random\n",
    "print(\"Welcome to Guess Game\")\n",
    "counterGuessing =0\n",
    "\n",
    "def GameGame():\n",
    "    global UserGuessing\n",
    "    global counterGuessing\n",
    "    UserGuessing =int(input(\"please Write your Guess number\"))\n",
    "    counterGuessing +=1\n",
    "    if UserGuessing < GuessNumber:\n",
    "        print(\"Your Guess is smaller than it\")\n",
    "    elif UserGuessing > GuessNumber:\n",
    "        print(\"Your Guess is bigger than it\")\n",
    "    elif UserGuessing==GuessNumber:\n",
    "        print(\"Win\")\n",
    "    else :\n",
    "        print(\"your input is wrong\")\n",
    "\n",
    "#init Game\n",
    "UserGuessing =0\n",
    "\n",
    "GuessNumber=random.randrange(1,50)\n",
    "\n",
    "print(\"the Random number is between 1-50\")\n",
    "\n",
    "\n",
    "while GuessNumber != UserGuessing:\n",
    "    GameGame()\n",
    "\n",
    "print(\"Number of Your try to Guess = \" ,counterGuessing)\n",
    "\n",
    "\n",
    "    \n",
    "\n",
    "\n"
   ]
  }
 ],
 "metadata": {
  "kernelspec": {
   "display_name": "Pylearn",
   "language": "python",
   "name": "python3"
  },
  "language_info": {
   "codemirror_mode": {
    "name": "ipython",
    "version": 3
   },
   "file_extension": ".py",
   "mimetype": "text/x-python",
   "name": "python",
   "nbconvert_exporter": "python",
   "pygments_lexer": "ipython3",
   "version": "3.11.5"
  }
 },
 "nbformat": 4,
 "nbformat_minor": 2
}
