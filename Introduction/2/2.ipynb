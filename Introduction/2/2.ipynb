{
 "cells": [
  {
   "cell_type": "markdown",
   "metadata": {},
   "source": [
    "# Assignments 2 - E2 - CLI - 2023\n"
   ]
  },
  {
   "cell_type": "markdown",
   "metadata": {},
   "source": [
    "## Docs"
   ]
  },
  {
   "cell_type": "markdown",
   "metadata": {},
   "source": [
    "### English Doc"
   ]
  },
  {
   "cell_type": "markdown",
   "metadata": {},
   "source": [
    "### Persian Doc\n",
    "\n",
    "<div style=\"direction:rtl\"> \n",
    "\n",
    "\n",
    "</div>"
   ]
  },
  {
   "cell_type": "markdown",
   "metadata": {},
   "source": [
    "## Solutions"
   ]
  },
  {
   "cell_type": "markdown",
   "metadata": {},
   "source": [
    "### 2.1\n",
    "\n",
    "In the guess number game, after winning, you print the number of user's guesses."
   ]
  },
  {
   "cell_type": "code",
   "execution_count": 21,
   "metadata": {},
   "outputs": [
    {
     "name": "stdout",
     "output_type": "stream",
     "text": [
      "Welcome to Guess Game\n",
      "the Random number is between 1-50\n",
      "Your Guess is bigger than it\n",
      "Your Guess is smaller than it\n",
      "Your Guess is smaller than it\n",
      "Win\n",
      "Number of Your try to Guess =  4\n"
     ]
    }
   ],
   "source": [
    "import random\n",
    "print(\"Welcome to Guess Game\")\n",
    "counterGuessing =0\n",
    "\n",
    "#Gameplay\n",
    "def GameGame():\n",
    "    global UserGuessing\n",
    "    global counterGuessing\n",
    "    UserGuessing =int(input(\"please Write your Guess number\"))\n",
    "    counterGuessing +=1\n",
    "    if UserGuessing < GuessNumber:\n",
    "        print(\"Your Guess is smaller than it\")\n",
    "    elif UserGuessing > GuessNumber:\n",
    "        print(\"Your Guess is bigger than it\")\n",
    "    elif UserGuessing==GuessNumber:\n",
    "        print(\"Win\")\n",
    "    else :\n",
    "        print(\"your input is wrong\")\n",
    "\n",
    "#init Game\n",
    "UserGuessing =0\n",
    "\n",
    "#Make Random number for Game\n",
    "GuessNumber=random.randrange(1,50)\n",
    "print(\"the Random number is between 1-50\")\n",
    "\n",
    "#While not Guess correctly , play game\n",
    "while GuessNumber != UserGuessing:\n",
    "    GameGame()\n",
    "\n",
    "print(\"Number of Your try to Guess = \" ,counterGuessing)\n",
    "\n",
    "\n",
    "    \n",
    "\n",
    "\n"
   ]
  },
  {
   "cell_type": "markdown",
   "metadata": {},
   "source": [
    "### 2.2 \n",
    "Complete the rock paper scissors game."
   ]
  },
  {
   "cell_type": "code",
   "execution_count": 27,
   "metadata": {},
   "outputs": [
    {
     "name": "stdout",
     "output_type": "stream",
     "text": [
      "hooora Win\n",
      "oops lose\n",
      "oops lose\n",
      "draw\n",
      "hooora Win\n",
      "computer Score =  2\n",
      "User Score 2\n"
     ]
    }
   ],
   "source": [
    "#code writed from tutorial \n",
    "\n",
    "import random\n",
    "\n",
    "#init var\n",
    "computer_score = 0\n",
    "user_score = 0\n",
    "computer_choice =\"\"\n",
    "user_choice=\"\"\n",
    "\n",
    "#Gameplay \n",
    "def RockPaperScissors():\n",
    "    global computer_score,computer_choice,user_score,user_choice\n",
    "\n",
    "    y = int(input(\"please Write number , 1:rock, 2:paper, 3:scissors\"))\n",
    "    match y:\n",
    "        case 1:user_choice = \"rock\"\n",
    "        case 2:user_choice = \"paper\"\n",
    "        case 3:user_choice = \"scissors\"\n",
    "\n",
    "    x=random.randint(1,3)\n",
    "    if x==1:\n",
    "        computer_choice = \"rock\"\n",
    "    elif x==2:\n",
    "        computer_choice = \"paper\"\n",
    "    elif x==3:\n",
    "        computer_choice = \"scissors\"\n",
    "\n",
    "    if computer_choice == \"rock\":\n",
    "        if user_choice == \"paper\":\n",
    "            user_score +=1\n",
    "            print(\"hooora Win\")\n",
    "        elif user_choice == \"scissors\":\n",
    "            computer_score +=1\n",
    "            print(\"oops lose\")\n",
    "        else :\n",
    "            print(\"draw\")\n",
    "    elif computer_choice == \"paper\":\n",
    "        if user_choice == \"rock\":\n",
    "            computer_score +=1\n",
    "            print(\"oops lose\")\n",
    "        elif user_choice == \"scissors\":\n",
    "            user_score +=1\n",
    "            print(\"hooora Win\")\n",
    "        else :\n",
    "            print(\"draw\")\n",
    "    elif computer_choice == \"scissors\":\n",
    "        if user_choice == \"rock\":\n",
    "            user_score +=1\n",
    "            print(\"hooora Win\")\n",
    "        elif user_choice == \"paper\":\n",
    "            computer_score +=1\n",
    "            print(\"oops lose\")\n",
    "        else :\n",
    "            print(\"draw\")\n",
    "\n",
    "#How many times run game\n",
    "Turns=int(input(\"how many Turn you want play it ?\"))\n",
    "for i in range(Turns):\n",
    "\n",
    "    RockPaperScissors()\n",
    "\n",
    "#HighScore\n",
    "print(\"computer Score = \",computer_score)\n",
    "print(\"User Score\",user_score)\n",
    "\n"
   ]
  },
  {
   "cell_type": "markdown",
   "metadata": {},
   "source": [
    "### 2.3 \n",
    "Write a program that receives the student's grades until the user enters the exit command and finally prints the student's grade point average."
   ]
  },
  {
   "cell_type": "code",
   "execution_count": 28,
   "metadata": {},
   "outputs": [
    {
     "name": "stdout",
     "output_type": "stream",
     "text": [
      "Average is 17.4\n"
     ]
    }
   ],
   "source": [
    "Sum = 0 \n",
    "CourseNumber =0 \n",
    "\n",
    "#Student Grade Get\n",
    "while (exit != True):\n",
    "    UserInput = input(\"please write your grade or Type 'exit\")\n",
    "    if UserInput == \"exit\":\n",
    "        break\n",
    "    Sum += float(UserInput)\n",
    "    CourseNumber += 1\n",
    "\n",
    "print(\"Average is\",Sum/CourseNumber)\n",
    "    \n",
    "    "
   ]
  },
  {
   "cell_type": "markdown",
   "metadata": {},
   "source": [
    "### 2.4\n",
    "Convert time to seconds\n",
    "Write a program that receives hours, minutes and seconds and converts them to seconds.\n",
    "for example:\n",
    "Entry: 01:00:20\n",
    "Output: 3620 seconds"
   ]
  },
  {
   "cell_type": "code",
   "execution_count": 29,
   "metadata": {},
   "outputs": [
    {
     "name": "stdout",
     "output_type": "stream",
     "text": [
      "your time is  1 : 20 : 50 :\n",
      " Converted to Second =  4850\n"
     ]
    }
   ],
   "source": [
    "#Write without using Time lib\n",
    "\n",
    "hh=int(input(\"Please Write Hour\"))\n",
    "mm=int(input(\"Please Write Minute\"))\n",
    "ss=int(input(\"Please Write Second\"))\n",
    "\n",
    "print(\"your time is \",hh,\":\",mm,\":\",ss,\":\\n\",\"Converted to Second = \", (hh*3600)+(mm*60)+ss)\n",
    "\n"
   ]
  },
  {
   "cell_type": "markdown",
   "metadata": {},
   "source": [
    "### 2.5\n",
    "Convert seconds to time\n",
    "Write a program that receives a number in seconds and converts it to time.\n",
    "for example:\n",
    "Input: 3620 seconds\n",
    "Output: 01:00:20"
   ]
  },
  {
   "cell_type": "code",
   "execution_count": 32,
   "metadata": {},
   "outputs": [
    {
     "name": "stdout",
     "output_type": "stream",
     "text": [
      "you Write: 3600 Seconds\n",
      " Converted to format hh:mm:ss is \n",
      " ⏲️ 1 : 0 : 0\n"
     ]
    }
   ],
   "source": [
    "#without using Time lib\n",
    "#h = 60 min = 3600 s \n",
    "# // div + round down\n",
    "# % remaining \n",
    "hh=0\n",
    "UserSecondInput = int(input(\"Please write second\"))\n",
    "hh = int(UserSecondInput//3600)\n",
    "mm = int((UserSecondInput % 3600) // 60)\n",
    "ss = int((UserSecondInput % 3600 ) %60)\n",
    "\n",
    "print(\"you Write:\",UserSecondInput,\"Seconds\\n\",\"Converted to format hh:mm:ss is \\n\",\"⏲️\",hh,\":\",mm,\":\",ss)"
   ]
  },
  {
   "cell_type": "markdown",
   "metadata": {},
   "source": [
    "### 2.6\n",
    "Simulate the dice. Until the number 6 comes. As a bonus, the dice are rolled again. 🎲"
   ]
  },
  {
   "cell_type": "code",
   "execution_count": 33,
   "metadata": {},
   "outputs": [
    {
     "name": "stdout",
     "output_type": "stream",
     "text": [
      "Next Player Turn:Player 1\n",
      "Dice Number : 6\n",
      "you Have another chance\n",
      "Your Lucky Dice Number : 1\n",
      "Next Player Turn:Player 2\n",
      "Dice Number : 1\n",
      "Next Player Turn:Player 3\n",
      "Dice Number : 4\n",
      "Next Player Turn:Player 4\n",
      "Dice Number : 3\n",
      "Next Player Turn:Player 5\n",
      "Dice Number : 5\n"
     ]
    }
   ],
   "source": [
    "import random\n",
    "\n",
    "#how many player in Game\n",
    "DiceNumber = random.randint(1,6)\n",
    "PlayerNumber=int(input(\"How Many Player Do you want Play\"))\n",
    "#init \n",
    "TurnCounter =1\n",
    "ExitGame = False\n",
    "ContinueGame = 'y'\n",
    "while ExitGame == False:\n",
    "    \n",
    "#dice play for all players , after finished show do you want exit    \n",
    "    print(\"Next Player Turn:Player\",TurnCounter)\n",
    "    DiceNumber = random.randint(1,6)\n",
    "    print(\"Dice Number :\",DiceNumber)\n",
    "    if DiceNumber==6:\n",
    "        print(\"you Have another chance\")\n",
    "        DiceNumber = random.randint(1,6)\n",
    "        print(\"Your Lucky Dice Number :\",DiceNumber)\n",
    "\n",
    "        while DiceNumber==6:\n",
    "            print(\"you Have another chance\")\n",
    "            print(\"Your Lucky Dice Number :\",DiceNumber)\n",
    "\n",
    "            DiceNumber = random.randint(1,6)\n",
    "    \n",
    "    if TurnCounter == PlayerNumber:\n",
    "        TurnCounter=0\n",
    "        ContinueGame=input(\"Do you want continue,y or n\")\n",
    "        if ContinueGame=='n':\n",
    "            ExitGame = True\n",
    "    TurnCounter +=1\n",
    "        \n",
    "\n",
    "\n",
    "\n",
    "\n",
    "    \n",
    "\n",
    "            \n",
    "\n"
   ]
  },
  {
   "cell_type": "markdown",
   "metadata": {},
   "source": [
    "### 2.7\n",
    "Write a program that receives n and prints n elements of the Fibonacci sequence. Example:\n",
    "Entrance:\n",
    "  n = 7\n",
    "Output:\n",
    "  1, 1, 2, 3, 5, 8, 13"
   ]
  },
  {
   "cell_type": "code",
   "execution_count": 37,
   "metadata": {},
   "outputs": [
    {
     "name": "stdout",
     "output_type": "stream",
     "text": [
      "1 1 2 3 5 \n"
     ]
    }
   ],
   "source": [
    "#get number of sequence from user\n",
    "n = int(input(\"How Many Number Fibo want calc?\"))\n",
    "#init\n",
    "num1 = 0\n",
    "num2 = 1\n",
    "temp = num2\n",
    "print(1,end=\" \")\n",
    "\n",
    "for i in range(n-1):\n",
    "\tprint(temp,end=\" \")\n",
    "\t#swap numbers to next number\n",
    "\tnum1, num2 = num2, temp\n",
    "\t#make next sequence\n",
    "\ttemp = num1 + num2\n",
    "print()\n",
    "\n"
   ]
  }
 ],
 "metadata": {
  "kernelspec": {
   "display_name": "Pylearn",
   "language": "python",
   "name": "python3"
  },
  "language_info": {
   "codemirror_mode": {
    "name": "ipython",
    "version": 3
   },
   "file_extension": ".py",
   "mimetype": "text/x-python",
   "name": "python",
   "nbconvert_exporter": "python",
   "pygments_lexer": "ipython3",
   "version": "3.11.5"
  }
 },
 "nbformat": 4,
 "nbformat_minor": 2
}
