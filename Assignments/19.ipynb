{
 "cells": [
  {
   "cell_type": "markdown",
   "metadata": {},
   "source": [
    "# Assignments 19 - CLI\n"
   ]
  },
  {
   "cell_type": "markdown",
   "metadata": {},
   "source": [
    "## 19.1\n",
    "- Designing and completing the Puzzle 15 game\n",
    "\n",
    "From the following 7 software, choose 3 of your choice:\n",
    "\n",
    "2- Designing an application to translate English to Farsi and Farsi to English\n",
    "3- Password generator software design (with radio button)\n",
    "Random Password Generator\n",
    "4- Designing a text sorting tool\n",
    "Remove Line Breaks Online Tool\n",
    "5- Designing a number guessing game with Qt\n",
    "6- Downloader software design\n",
    "7- Unit conversion:\n",
    "\n",
    "Weight: grams - kilograms - tons - pounds\n",
    "Length: mm - cm - m - km - inch\n",
    "Temperature: Celsius - Fahrenheit - Kelvin\n",
    "Digital volume: bit - byte - kilobyte - megabyte - gigabyte - terabyte\n"
   ]
  }
 ],
 "metadata": {
  "kernelspec": {
   "display_name": "Pylearn",
   "language": "python",
   "name": "python3"
  },
  "language_info": {
   "codemirror_mode": {
    "name": "ipython",
    "version": 3
   },
   "file_extension": ".py",
   "mimetype": "text/x-python",
   "name": "python",
   "nbconvert_exporter": "python",
   "pygments_lexer": "ipython3",
   "version": "3.11.5"
  }
 },
 "nbformat": 4,
 "nbformat_minor": 2
}
