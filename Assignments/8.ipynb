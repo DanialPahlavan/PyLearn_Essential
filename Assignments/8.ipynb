{
 "cells": [
  {
   "cell_type": "markdown",
   "metadata": {},
   "source": [
    "# Assignments 8 - CLI\n"
   ]
  },
  {
   "cell_type": "markdown",
   "metadata": {},
   "source": [
    "## Docs"
   ]
  },
  {
   "cell_type": "markdown",
   "metadata": {},
   "source": [
    "### Persian Doc\n",
    "\n",
    "<div style=\"direction:rtl\"> \n",
    "\n",
    "گیف بساز و اون رو در گروه بفرست 😉\n",
    "تکمیل برنامه فروشگاه (تکمیل ۱۰۰ درصد)\n",
    "به برنامه مترجم (Translate) قابلیت های زیر را اضافه نمایید:\n",
    "ترجمه انگلیسی به فارسی\n",
    "ترجمه فارسی به انگلیسی\n",
    "نکته: رشته ورودی کاربر می تواند بیش از یک جمله باشد. جملات با نقطه از یکدیگر جدا می شوند.\n",
    "نکته: پس از ترجمه، خروجی به صورت صوت تولید شود (با gTTS).\n",
    "افزودن واژه جدید به فایل بانک کلمات\n",
    "نکته: در صورتی که فایل بانک کلمات در مسیر مورد نظر وجود نداشت. برنامه پیغام مناسب نمایش دهد.\n",
    "\n",
    "</div>"
   ]
  },
  {
   "cell_type": "markdown",
   "metadata": {},
   "source": [
    "## 8.1\n",
    "\n"
   ]
  }
 ],
 "metadata": {
  "kernelspec": {
   "display_name": "Pylearn",
   "language": "python",
   "name": "python3"
  },
  "language_info": {
   "codemirror_mode": {
    "name": "ipython",
    "version": 3
   },
   "file_extension": ".py",
   "mimetype": "text/x-python",
   "name": "python",
   "nbconvert_exporter": "python",
   "pygments_lexer": "ipython3",
   "version": "3.11.5"
  }
 },
 "nbformat": 4,
 "nbformat_minor": 2
}
