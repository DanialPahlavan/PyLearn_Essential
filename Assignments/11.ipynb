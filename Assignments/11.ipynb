{
 "cells": [
  {
   "cell_type": "markdown",
   "metadata": {},
   "source": [
    "# Assignments 11 - CLI\n"
   ]
  },
  {
   "cell_type": "markdown",
   "metadata": {},
   "source": [
    "### Persian Doc\n",
    "\n",
    "<div style=\"direction:rtl\"> \n",
    "\n",
    "برنامه کسرها را کامل نمایید (با Object Oriented Programming):\n",
    "جمع دو کسر\n",
    "ضرب دو کسر\n",
    "تفریق دو کسر\n",
    "تقسیم دو کسر\n",
    "تبدیل کسر به عدد\n",
    "ساده سازی کسر\n",
    "\n",
    "برنامه ای بنویسید برای محاسبات زمان (با Object Oriented Programming):\n",
    "جمع دو زمان (اگر دقیقه و ثانیه بیشتر از ۶۰ شدند، آن ها را اصلاح نمایید)\n",
    "تفریق دو زمان (اگر دقیقه و ثانیه کمتر از صفر شدند، آن ها را اصلاح نمایید)\n",
    "تبدیل ثانیه به زمان\n",
    "تبدیل زمان به ثانیه\n",
    "تبدیل زمان GMT به زمان تهران\n",
    "\n",
    "برنامه ای بنویسید برای محاسبات عدد مختلط (با Object Oriented Programming):\n",
    "جمع دو عدد مختلط\n",
    "ضرب دو عدد مختلط\n",
    "تفریق دو عدد مختلط\n",
    "\n",
    "تابعی بنویسید که عدد n را به عنوان پارامتر دریافت نماید. اگر n فرد بود، یک قالیچه با ابعاد n*n تولید کرده و return نماید. اگر n زوج بود، پیام مناسب return شود. \n",
    "اطلاعات بیشتر: https://edabit.com/challenge/87YxyfFJ4cw4DsrvB\n",
    "برای تولید خروجی زیباتر، می توانید به جای اعداد از ایموجی استفاده نمایید 😉\n",
    "\n",
    "</div>"
   ]
  },
  {
   "cell_type": "markdown",
   "metadata": {},
   "source": [
    "## 11.1\n",
    "\n"
   ]
  }
 ],
 "metadata": {
  "kernelspec": {
   "display_name": "Pylearn",
   "language": "python",
   "name": "python3"
  },
  "language_info": {
   "codemirror_mode": {
    "name": "ipython",
    "version": 3
   },
   "file_extension": ".py",
   "mimetype": "text/x-python",
   "name": "python",
   "nbconvert_exporter": "python",
   "pygments_lexer": "ipython3",
   "version": "3.11.5"
  }
 },
 "nbformat": 4,
 "nbformat_minor": 2
}
