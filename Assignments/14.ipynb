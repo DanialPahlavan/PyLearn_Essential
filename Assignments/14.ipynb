{
 "cells": [
  {
   "cell_type": "markdown",
   "metadata": {},
   "source": [
    "# Assignments 14 - CLI\n"
   ]
  },
  {
   "cell_type": "markdown",
   "metadata": {},
   "source": [
    "### Persian Doc\n",
    "\n",
    "<div style=\"direction:rtl\"> \n",
    "تکمیل بازی Spaceship\n",
    "فاصله زمانی بین ورود فضاپیماهای دشمن، دقیقا ۳ ثانیه باشد.\n",
    "سرعت فضاپیماهای دشمن به مرور اندک اندک افزایش یابد.\n",
    "با خروج هر فضاپیمای دشمن یا تیر از صفحه بازی، شی آن از لیست حذف شود.\n",
    "در شروع بازی سه قلب گوشه پایین سمت چپ چاپ بشود که نشان دهنده جون بازیکن می‌باشد.\n",
    "♥️♥️♥️\n",
    "با رسیدن هر دشمن به سیاره ما، یک جون از بازیکن کم شود.\n",
    "در صورت تمام شدن جون ها، صفحه سیاه شده و پیام GAME OVER روی صفحه بازی چاپ شود.\n",
    "در گوشه پایین سمت راست امتیاز بازیکن نمایش داده شود.\n",
    "امتیاز بازیکن = تعداد دشمن‌های منفجر شده\n",
    "برای شلیک کردن و برای منفجر شدن هواپیما، صداهای مناسب پخش شود.\n",
    "\n",
    "نکته خیلی مهم: برای ریپازیتوری خود در گیت هاب یک readme مناسب شامل اسکرین شات و توضیحات بازی طراحی نمایید.\n",
    "\n",
    "\n",
    "</div>"
   ]
  },
  {
   "cell_type": "markdown",
   "metadata": {},
   "source": [
    "## 14.1\n",
    "\n"
   ]
  }
 ],
 "metadata": {
  "kernelspec": {
   "display_name": "Pylearn",
   "language": "python",
   "name": "python3"
  },
  "language_info": {
   "codemirror_mode": {
    "name": "ipython",
    "version": 3
   },
   "file_extension": ".py",
   "mimetype": "text/x-python",
   "name": "python",
   "nbconvert_exporter": "python",
   "pygments_lexer": "ipython3",
   "version": "3.11.5"
  }
 },
 "nbformat": 4,
 "nbformat_minor": 2
}
