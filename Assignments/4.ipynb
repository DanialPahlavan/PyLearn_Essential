{
 "cells": [
  {
   "cell_type": "markdown",
   "metadata": {},
   "source": [
    "# Assignments 4 - CLI\n"
   ]
  },
  {
   "cell_type": "markdown",
   "metadata": {},
   "source": [
    "### Persian Doc\n",
    "\n",
    "<div style=\"direction:rtl\"> \n",
    "برنامه ای بنویسید که نام و شماره همراه کاربر را دریافت کند و به Qr Code تبدیل نماید.\n",
    "برنامه ای بنویسید که با دریافت یک عدد مشخص نماید که عدد فاکتوریلی می باشد یا خیر. در صورت فاکتوریلی بودن، کلمه yes و در غیر این صورت کلمه no را چاپ نماید. مثال:\n",
    "ورودی: 24\tخروجی: yes\n",
    "زیرا می دانیم:\n",
    "24 = 1 * 2 * 3 * 4 = 4!\n",
    "برنامه instagram unfollow finder را به گونه ای تغییر دهید که فالوورهای جدید را مشخص نماید و نام آن را instagram new followers finder قرار دهید.\n",
    "برنامه ای بنویسید که یک لیست را برعکس نماید.\n",
    "مثال: ورودی: [2, 3, 6, 1, 0, 14, 16, 7] \t    خروجی: [7, 16, 14, 0, 1, 6, 3, 2]\n",
    "برنامه ای بنویسید که عناصر تکراری یک لیست را حذف نماید.\n",
    "مثال: ورودی: [2, 3, 6, 7, 7, 14, 2, 7]     خروجی:  [3, 6, 14, 2, 7] \n",
    "سرتیفیکیت Python for Beginners را از وبسایت سولولرن دریافت نمایید و در گروه ارسال کنید.\n",
    "https://www.sololearn.com/learning/1157\n",
    "\n",
    "\n",
    "</div>"
   ]
  },
  {
   "cell_type": "markdown",
   "metadata": {},
   "source": [
    "### 4.1\n",
    "\n"
   ]
  },
  {
   "cell_type": "code",
   "execution_count": null,
   "metadata": {},
   "outputs": [],
   "source": [
    "#Make QR code from Name+number\n",
    "\n"
   ]
  },
  {
   "cell_type": "code",
   "execution_count": null,
   "metadata": {},
   "outputs": [],
   "source": [
    "#identify facto or not"
   ]
  },
  {
   "cell_type": "code",
   "execution_count": null,
   "metadata": {},
   "outputs": [],
   "source": [
    "#instagram unfollow finder"
   ]
  },
  {
   "cell_type": "code",
   "execution_count": 2,
   "metadata": {},
   "outputs": [
    {
     "name": "stdout",
     "output_type": "stream",
     "text": [
      "[1, 2, 3, 4, 5, 6]\n",
      "[6, 5, 4, 3, 2, 1]\n"
     ]
    }
   ],
   "source": [
    "#reverse list Without use Function\n",
    "#init\n",
    "SampleList= [1,2,3,4,5,6]\n",
    "ReverseList = []\n",
    "#print\n",
    "print(SampleList)\n",
    "\n",
    "for i in SampleList:\n",
    "    ReverseList.append(SampleList[-i]) \n",
    "\n",
    "print(ReverseList)"
   ]
  },
  {
   "cell_type": "code",
   "execution_count": 5,
   "metadata": {},
   "outputs": [
    {
     "name": "stdout",
     "output_type": "stream",
     "text": [
      "Main List = [1, 2, 2, 6, 5, 6]\n",
      "Clean Repeative List [1, 5]\n"
     ]
    }
   ],
   "source": [
    "#delete repetive item of a list \n",
    "\n",
    "#init\n",
    "SampleList= [1,2,2,6,5,6]\n",
    "NonRepitiveSampleList = []\n",
    "RepitiveCounter=0\n",
    "RepitiveFound = False\n",
    "\n",
    "for i in SampleList:\n",
    "    for j in SampleList:\n",
    "        if i == j :\n",
    "            RepitiveCounter +=1\n",
    "            if RepitiveCounter > 1:\n",
    "                RepitiveFound=True\n",
    "    if RepitiveFound == False:\n",
    "        NonRepitiveSampleList.append(i)\n",
    "\n",
    "    RepitiveCounter = 0 \n",
    "    RepitiveFound=False\n",
    "\n",
    "print(\"Main List =\",SampleList)\n",
    "print(\"Clean Repeative List\",NonRepitiveSampleList)\n",
    "    \n"
   ]
  }
 ],
 "metadata": {
  "kernelspec": {
   "display_name": "Pylearn",
   "language": "python",
   "name": "python3"
  },
  "language_info": {
   "codemirror_mode": {
    "name": "ipython",
    "version": 3
   },
   "file_extension": ".py",
   "mimetype": "text/x-python",
   "name": "python",
   "nbconvert_exporter": "python",
   "pygments_lexer": "ipython3",
   "version": "3.11.5"
  }
 },
 "nbformat": 4,
 "nbformat_minor": 2
}
