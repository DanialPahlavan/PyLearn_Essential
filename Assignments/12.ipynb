{
 "cells": [
  {
   "cell_type": "markdown",
   "metadata": {},
   "source": [
    "# Assignments 12 - CLI\n"
   ]
  },
  {
   "cell_type": "markdown",
   "metadata": {},
   "source": [
    "## Docs"
   ]
  },
  {
   "cell_type": "markdown",
   "metadata": {},
   "source": [
    "### Persian Doc\n",
    "\n",
    "<div style=\"direction:rtl\"> \n",
    "\n",
    "نرم افزاری برای مدیریت رسانه‌های ویدیویی طراحی نمایید.\n",
    "امکانات تمرین فروشگاه، مانند طراحی منو، قابلیت افزودن، ویرایش، حذف، جستجو و … را پیاده سازی نمایید.\n",
    "یک class کلی به نام Media طراحی نمایید که شامل ویژگی‌های زیر باشد:\n",
    "properties: name - director - IMDB score - url - duration - casts\n",
    "methods: showInfo - download - \n",
    "سپس class های زیر را ایجاد نمایید که از کلاس Media ارث بری می کنند.\n",
    "Film (فیلم سینمایی)\n",
    "Series (سریال)\n",
    "Documentary (مستند)\n",
    "Clip (فیلم کوتاه)\n",
    "به دلخواه خود برای class های بالا ویژگی‌های متفاوت تعریف نمایید. برای نمونه، سریال می‌تواند دارای یک property به نام (تعداد قسمت ها) باشد، در حالی که فیلم سینمایی این property را ندارد.\n",
    "برای بازیگرها یک class به نام Actor تعریف نمایید. ویژگی casts در کلاس Media یک لیست از Actor ها می‌باشد.\n",
    "در ابتدای برنامه اطلاعات از فایل خوانده شود و هنگام خروج از برنامه، تغییرات جدید در فایل ذخیره شود.\n",
    "هر class را در یک فایل جداگانه پیاده سازی نمایید که در main.py باید import شوند.\n",
    "یک قابلیت جستجوی پیشرفته طراحی نمایید که دو زمان a و b بر حسب دقیقه از کاربر دریافت نماید و فیلم هایی که مدت زمان آن ها بین a و b باشد را نمایش دهد.\n",
    "در صورتی که کاربر برای یک ویدیو متد download را فراخوانی کرد، با توجه به url به کمک pytube آن را دانلود نمایید. (برای راهنمایی به آدرس اینستاگرامی pylearn@ مراجعه نمایید)\n",
    "\n",
    "</div>"
   ]
  },
  {
   "cell_type": "markdown",
   "metadata": {},
   "source": [
    "## 12.1\n",
    "\n"
   ]
  }
 ],
 "metadata": {
  "kernelspec": {
   "display_name": "Pylearn",
   "language": "python",
   "name": "python3"
  },
  "language_info": {
   "codemirror_mode": {
    "name": "ipython",
    "version": 3
   },
   "file_extension": ".py",
   "mimetype": "text/x-python",
   "name": "python",
   "nbconvert_exporter": "python",
   "pygments_lexer": "ipython3",
   "version": "3.11.5"
  }
 },
 "nbformat": 4,
 "nbformat_minor": 2
}
