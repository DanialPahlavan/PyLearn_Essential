{
 "cells": [
  {
   "cell_type": "markdown",
   "metadata": {},
   "source": [
    "# Assignments 4 - CLI\n"
   ]
  },
  {
   "cell_type": "markdown",
   "metadata": {},
   "source": [
    "### Persian Doc\n",
    "\n",
    "<div style=\"direction:rtl\"> \n",
    "برنامه ای بنویسید که نام و شماره همراه کاربر را دریافت کند و به Qr Code تبدیل نماید.\n",
    "برنامه ای بنویسید که با دریافت یک عدد مشخص نماید که عدد فاکتوریلی می باشد یا خیر. در صورت فاکتوریلی بودن، کلمه yes و در غیر این صورت کلمه no را چاپ نماید. مثال:\n",
    "ورودی: 24\tخروجی: yes\n",
    "زیرا می دانیم:\n",
    "24 = 1 * 2 * 3 * 4 = 4!\n",
    "برنامه instagram unfollow finder را به گونه ای تغییر دهید که فالوورهای جدید را مشخص نماید و نام آن را instagram new followers finder قرار دهید.\n",
    "برنامه ای بنویسید که یک لیست را برعکس نماید.\n",
    "مثال: ورودی: [2, 3, 6, 1, 0, 14, 16, 7] \t    خروجی: [7, 16, 14, 0, 1, 6, 3, 2]\n",
    "برنامه ای بنویسید که عناصر تکراری یک لیست را حذف نماید.\n",
    "مثال: ورودی: [2, 3, 6, 7, 7, 14, 2, 7]     خروجی:  [3, 6, 14, 2, 7] \n",
    "سرتیفیکیت Python for Beginners را از وبسایت سولولرن دریافت نمایید و در گروه ارسال کنید.\n",
    "https://www.sololearn.com/learning/1157\n",
    "\n",
    "\n",
    "</div>"
   ]
  },
  {
   "cell_type": "markdown",
   "metadata": {},
   "source": [
    "### 4.1\n",
    "\n"
   ]
  },
  {
   "cell_type": "code",
   "execution_count": 17,
   "metadata": {},
   "outputs": [
    {
     "data": {
      "image/png": "[encoded data removed]",
      "text/plain": [
       "<IPython.core.display.Image object>"
      ]
     },
     "execution_count": 17,
     "metadata": {},
     "output_type": "execute_result"
    }
   ],
   "source": [
    "#Make QR code from Name+number\n",
    "from IPython.display import Image\n",
    "\n",
    "import qrcode\n",
    "\n",
    "UserContactInfo = input(\"YourName , phone Number example [dany +989370000000]:\")\n",
    "\n",
    "img = qrcode.make(UserContactInfo)\n",
    "type(img)  # qrcode.image.pil.PilImage\n",
    "img.save(\"Qrcode.png\")\n",
    "Image(filename='Qrcode.png') \n"
   ]
  },
  {
   "cell_type": "code",
   "execution_count": 31,
   "metadata": {},
   "outputs": [
    {
     "name": "stdout",
     "output_type": "stream",
     "text": [
      "your number is a factorial of 4\n",
      "4 !=1 * 2 * 3 * 4 = 24\n"
     ]
    }
   ],
   "source": [
    "#identify facto or not\n",
    "\n",
    "\n",
    "FactResultNumber=int(input(\"Fact Result Number: [example 24 => that is 4!]\"))\n",
    "\n",
    "number=FactResultNumber\n",
    "FactNumberList=[]\n",
    "\n",
    "#Find Seq of Number\n",
    "for i in range(1,int(FactResultNumber/2)):\n",
    "    if (FactResultNumber % i == 0) :\n",
    "        FactResultNumber //= i\n",
    "        FactNumberList.append(i)    \n",
    "    else :\n",
    "        FactNumber = i\n",
    "        break\n",
    "\n",
    "\n",
    "#Check Fact or Not    \n",
    "if (FactResultNumber == 1) :\n",
    "    print(\"your number is a factorial of\" ,FactNumber-1) \n",
    "    print(FactNumber-1,\"!=\",end=\"\")\n",
    "    for NumberOfMulti in FactNumberList:\n",
    "        if NumberOfMulti!= len(FactNumberList) :\n",
    "            print(NumberOfMulti,end=\" * \")\n",
    "        else:\n",
    "            print(NumberOfMulti,end=\"\")\n",
    "\n",
    "    print(\" =\",number)\n",
    "else :\n",
    "    print(\"Its Not Fact\")"
   ]
  },
  {
   "cell_type": "code",
   "execution_count": 7,
   "metadata": {},
   "outputs": [
    {
     "name": "stdout",
     "output_type": "stream",
     "text": [
      "you have connected successfully\n",
      "<Profile gojo.x.09 (62422042035)>\n"
     ]
    },
    {
     "ename": "TypeError",
     "evalue": "unsupported operand type(s) for +: 'Profile' and 'str'",
     "output_type": "error",
     "traceback": [
      "\u001b[1;31m---------------------------------------------------------------------------\u001b[0m",
      "\u001b[1;31mTypeError\u001b[0m                                 Traceback (most recent call last)",
      "Cell \u001b[1;32mIn[7], line 42\u001b[0m\n\u001b[0;32m     40\u001b[0m f \u001b[38;5;241m=\u001b[39m \u001b[38;5;28mopen\u001b[39m(\u001b[38;5;124m\"\u001b[39m\u001b[38;5;124mfollowers.txt\u001b[39m\u001b[38;5;124m\"\u001b[39m , \u001b[38;5;124m\"\u001b[39m\u001b[38;5;124mw\u001b[39m\u001b[38;5;124m\"\u001b[39m)        \n\u001b[0;32m     41\u001b[0m \u001b[38;5;28;01mfor\u001b[39;00m follower \u001b[38;5;129;01min\u001b[39;00m new_followers:\n\u001b[1;32m---> 42\u001b[0m     f\u001b[38;5;241m.\u001b[39mwrite(follower \u001b[38;5;241m+\u001b[39m \u001b[38;5;124m\"\u001b[39m\u001b[38;5;130;01m\\n\u001b[39;00m\u001b[38;5;124m\"\u001b[39m)\n\u001b[0;32m     43\u001b[0m     f\u001b[38;5;241m.\u001b[39mclose()\n",
      "\u001b[1;31mTypeError\u001b[0m: unsupported operand type(s) for +: 'Profile' and 'str'"
     ]
    }
   ],
   "source": [
    "#instagram unfollow finder\n",
    "\n",
    "# insta lib , Get pass From User Without Showing\n",
    "import instaloader\n",
    "import getpass \n",
    "\n",
    "old_followers = []\n",
    "new_followers = []\n",
    "\n",
    "\n",
    "#add oldFollowers to list\n",
    "f = open(\"followers.txt\" , \"r\")\n",
    "\n",
    "for line in f :\n",
    "    old_followers.append(line)\n",
    "f.close()\n",
    "\n",
    "#connect Insta\n",
    "InstagramInstant = instaloader.Instaloader()\n",
    "\n",
    "username = input(\"your username: \")\n",
    "password = getpass.getpass(\"your password: \")\n",
    "\n",
    "InstagramInstant.login(username,password)\n",
    "print(\"you have connected successfully\")\n",
    "\n",
    "\n",
    "profile=instaloader.Profile.from_username(InstagramInstant.context,\"danielPM307\")\n",
    "\n",
    "for follower in profile.get_followers():\n",
    "    new_followers.append(follower)\n",
    "\n",
    "#compare followers\n",
    "for n_follower in new_followers:\n",
    "    if n_follower not in old_followers:\n",
    "        print(n_follower)\n",
    "f.close()\n",
    "\n",
    "\n",
    "f = open(\"followers.txt\" , \"w\")        \n",
    "for follower in new_followers:\n",
    "    f.write(follower + \"\\n\")\n",
    "f.close()"
   ]
  },
  {
   "cell_type": "code",
   "execution_count": 2,
   "metadata": {},
   "outputs": [
    {
     "name": "stdout",
     "output_type": "stream",
     "text": [
      "[1, 2, 3, 4, 5, 6]\n",
      "[6, 5, 4, 3, 2, 1]\n"
     ]
    }
   ],
   "source": [
    "#reverse list Without use Function\n",
    "#init\n",
    "SampleList= [1,2,3,4,5,6]\n",
    "ReverseList = []\n",
    "#print\n",
    "print(SampleList)\n",
    "\n",
    "for i in SampleList:\n",
    "    ReverseList.append(SampleList[-i]) \n",
    "\n",
    "print(ReverseList)"
   ]
  },
  {
   "cell_type": "code",
   "execution_count": 5,
   "metadata": {},
   "outputs": [
    {
     "name": "stdout",
     "output_type": "stream",
     "text": [
      "Main List = [1, 2, 2, 6, 5, 6]\n",
      "Clean Repeative List [1, 5]\n"
     ]
    }
   ],
   "source": [
    "#delete repetive item of a list \n",
    "\n",
    "#init\n",
    "SampleList= [1,2,2,6,5,6]\n",
    "NonRepitiveSampleList = []\n",
    "RepitiveCounter=0\n",
    "RepitiveFound = False\n",
    "\n",
    "for i in SampleList:\n",
    "    for j in SampleList:\n",
    "        if i == j :\n",
    "            RepitiveCounter +=1\n",
    "            if RepitiveCounter > 1:\n",
    "                RepitiveFound=True\n",
    "    if RepitiveFound == False:\n",
    "        NonRepitiveSampleList.append(i)\n",
    "\n",
    "    RepitiveCounter = 0 \n",
    "    RepitiveFound=False\n",
    "\n",
    "print(\"Main List =\",SampleList)\n",
    "print(\"Clean Repeative List\",NonRepitiveSampleList)\n",
    "    \n"
   ]
  }
 ],
 "metadata": {
  "kernelspec": {
   "display_name": "Pylearn",
   "language": "python",
   "name": "python3"
  },
  "language_info": {
   "codemirror_mode": {
    "name": "ipython",
    "version": 3
   },
   "file_extension": ".py",
   "mimetype": "text/x-python",
   "name": "python",
   "nbconvert_exporter": "python",
   "pygments_lexer": "ipython3",
   "version": "3.11.5"
  }
 },
 "nbformat": 4,
 "nbformat_minor": 2
}
