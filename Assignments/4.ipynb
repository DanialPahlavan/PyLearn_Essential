{
 "cells": [
  {
   "cell_type": "markdown",
   "metadata": {},
   "source": [
    "# Assignments 4 - CLI\n"
   ]
  },
  {
   "cell_type": "markdown",
   "metadata": {},
   "source": [
    "### Persian Doc\n",
    "\n",
    "<div style=\"direction:rtl\"> \n",
    "برنامه ای بنویسید که نام و شماره همراه کاربر را دریافت کند و به Qr Code تبدیل نماید.\n",
    "برنامه ای بنویسید که با دریافت یک عدد مشخص نماید که عدد فاکتوریلی می باشد یا خیر. در صورت فاکتوریلی بودن، کلمه yes و در غیر این صورت کلمه no را چاپ نماید. مثال:\n",
    "ورودی: 24\tخروجی: yes\n",
    "زیرا می دانیم:\n",
    "24 = 1 * 2 * 3 * 4 = 4!\n",
    "برنامه instagram unfollow finder را به گونه ای تغییر دهید که فالوورهای جدید را مشخص نماید و نام آن را instagram new followers finder قرار دهید.\n",
    "برنامه ای بنویسید که یک لیست را برعکس نماید.\n",
    "مثال: ورودی: [2, 3, 6, 1, 0, 14, 16, 7] \t    خروجی: [7, 16, 14, 0, 1, 6, 3, 2]\n",
    "برنامه ای بنویسید که عناصر تکراری یک لیست را حذف نماید.\n",
    "مثال: ورودی: [2, 3, 6, 7, 7, 14, 2, 7]     خروجی:  [3, 6, 14, 2, 7] \n",
    "سرتیفیکیت Python for Beginners را از وبسایت سولولرن دریافت نمایید و در گروه ارسال کنید.\n",
    "https://www.sololearn.com/learning/1157\n",
    "\n",
    "\n",
    "</div>"
   ]
  },
  {
   "cell_type": "markdown",
   "metadata": {},
   "source": [
    "## 4.1\n",
    "\n"
   ]
  }
 ],
 "metadata": {
  "kernelspec": {
   "display_name": "Pylearn",
   "language": "python",
   "name": "python3"
  },
  "language_info": {
   "codemirror_mode": {
    "name": "ipython",
    "version": 3
   },
   "file_extension": ".py",
   "mimetype": "text/x-python",
   "name": "python",
   "nbconvert_exporter": "python",
   "pygments_lexer": "ipython3",
   "version": "3.11.5"
  }
 },
 "nbformat": 4,
 "nbformat_minor": 2
}
