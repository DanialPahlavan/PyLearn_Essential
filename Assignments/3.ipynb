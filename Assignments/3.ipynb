{
 "cells": [
  {
   "cell_type": "markdown",
   "metadata": {},
   "source": [
    "# Assignments 3 - CLI\n"
   ]
  },
  {
   "cell_type": "markdown",
   "metadata": {},
   "source": [
    "## 3.1\n",
    "\n",
    "<div style=\"direction:rtl\"> \n",
    "\n",
    "\n",
    "\n",
    "بازی HangMan را تکمیل نمایید:\n",
    "شرط برنده شدن را پیاده سازی نمایید.\n",
    "مشکل ورود کاراکتر های uppercase را حل نمایید. (برای مثال اگر کلمه مورد نظر book باشد و کاربر حرف B بزرگ را وارد نماید، از او پذیرفته شود)\n",
    "\n",
    "یک آرایه به طول n را با اعداد تصادفی غیر تکراری پر نمایید. \n",
    "مثال: [2, 3, 6, 1, 0, 14, 16, 7]\n",
    "\n",
    "برنامه ای بنویسید که یک آرایه از کاربر دریافت نماید و سپس بررسی کند که آیا مقادیر آرایه از کوچک به بزرگ مرتب شده است یا خیر. برای مثال آرایه [1,2,4,6,7] مرتب است. اما آرایه [8,5,4,1,6,7] مرتب نیست.\n",
    "\n",
    "برنامه ای بنویسید که عدد n را از کاربر دریافت نماید. سپس یک مار راه راه به طول n رسم نماید. برای نمونه:\n",
    "ورودی: n = 9\n",
    "خروجی: *#*#*#*#*\n",
    "\n",
    "برنامه‌ای بنویسید که با دریافت دو عدد از کاربر ب.م.م آن ها را محاسبه کند.\n",
    "(با استفاده از حلقه for)\n",
    "\n",
    "برنامه‌ای بنویسید که با دریافت دو عدد از کاربر ک.م.م آن ها را محاسبه کند.\n",
    "(با استفاده از حلقه for)\n",
    "\n",
    "برنامه‌ای بنویسید که یک جمله از کاربر دریافت نموده و تعداد کلمات آن را شمارش نماید. مثال:\n",
    "ورودی: python is a powerful programming language\t\tخروجی: 6\n",
    "\n",
    "\n",
    "\n",
    "\n",
    "\n",
    "</div>\n",
    "\n",
    "\n"
   ]
  },
  {
   "cell_type": "markdown",
   "metadata": {},
   "source": [
    "## 3.2\n",
    "\n",
    "Arrays with non repitive random number n "
   ]
  },
  {
   "cell_type": "code",
   "execution_count": 5,
   "metadata": {},
   "outputs": [
    {
     "name": "stdout",
     "output_type": "stream",
     "text": [
      "[66, 51, 48, 87, 78, 8, 68, 72, 74, 41, 70, 97, 39, 96, 36, 62, 12, 73, 40, 56, 20, 60, 52, 30, 100, 9, 50, 5, 71, 67, 94, 82, 49, 57, 27, 25, 84, 53, 64, 89, 14, 92, 11, 37]\n"
     ]
    }
   ],
   "source": [
    "import random\n",
    "\n",
    "ArraySize=int(input(\"array size : \"))\n",
    "a=[]\n",
    "for i in range (ArraySize):\n",
    "    RandomNumber=random.randint(1,100)\n",
    "    if RandomNumber not in a:\n",
    "        a.append(RandomNumber)\n",
    "\n",
    "print(a)"
   ]
  },
  {
   "cell_type": "markdown",
   "metadata": {},
   "source": [
    "## 3.3\n",
    "\n",
    "Get array from usr and check array is Sort or not"
   ]
  },
  {
   "cell_type": "code",
   "execution_count": 8,
   "metadata": {},
   "outputs": [
    {
     "name": "stdout",
     "output_type": "stream",
     "text": [
      "UserArray is: [1, 2, 3, 4, 5]\n"
     ]
    }
   ],
   "source": [
    "#Not Finished\n",
    "ArraySize = int(input(\"Array size :\"))\n",
    "UserArray =[]\n",
    "for i in range (ArraySize):\n",
    "    UserArray.append(int(input(\"Write number:\")))\n",
    "\n",
    "print(\"UserArray is:\",UserArray)\n",
    "\n"
   ]
  },
  {
   "cell_type": "markdown",
   "metadata": {},
   "source": [
    "### 3.4\n",
    " Snake print"
   ]
  },
  {
   "cell_type": "code",
   "execution_count": 22,
   "metadata": {},
   "outputs": [
    {
     "name": "stdout",
     "output_type": "stream",
     "text": [
      "*####"
     ]
    }
   ],
   "source": [
    "n=int(input(\"write n:\"))\n",
    "print(\"*\",end=\"\")\n",
    "while n / 2 > 1 :\n",
    "    print(\"##\",end=\"\")\n",
    "    n=n/2"
   ]
  }
 ],
 "metadata": {
  "kernelspec": {
   "display_name": "Pylearn",
   "language": "python",
   "name": "python3"
  },
  "language_info": {
   "codemirror_mode": {
    "name": "ipython",
    "version": 3
   },
   "file_extension": ".py",
   "mimetype": "text/x-python",
   "name": "python",
   "nbconvert_exporter": "python",
   "pygments_lexer": "ipython3",
   "version": "3.11.5"
  }
 },
 "nbformat": 4,
 "nbformat_minor": 2
}
