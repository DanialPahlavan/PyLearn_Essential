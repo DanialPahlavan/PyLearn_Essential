{
 "cells": [
  {
   "cell_type": "markdown",
   "metadata": {},
   "source": [
    "# Assignments 10 - CLI\n"
   ]
  },
  {
   "cell_type": "markdown",
   "metadata": {},
   "source": [
    "### Persian Doc\n",
    "\n",
    "<div style=\"direction:rtl\"> \n",
    "برای کسرها با استفاده از شی گرایی یک class بنویسید. \n",
    "کسرها چه property ها و چه method هایی میتوانند داشته باشند؟ در این مورد در گروه گفتگو کنید.\n",
    "\n",
    "برای زمان با استفاده از شی گرایی یک class بنویسید. \n",
    "زمان چه property ها و چه method هایی میتواند داشته باشد؟ در این مورد در گروه گفتگو کنید.\n",
    "برای تاریخ با استفاده از شی گرایی یک class بنویسید. \n",
    "تاریخ چه property ها و چه method هایی میتواند داشته باشد؟ در این مورد در گروه گفتگو کنید.\n",
    "\n",
    "نیازی به پیاده سازی دستورات داخل یک method نیست.\n",
    "\n",
    "دریافت سرتیفیکیت Intermediate Python\n",
    "https://www.sololearn.com/learning/1158\n",
    "\n",
    "\n",
    "</div>"
   ]
  },
  {
   "cell_type": "markdown",
   "metadata": {},
   "source": [
    "## 10.1\n",
    "\n"
   ]
  },
  {
   "cell_type": "code",
   "execution_count": null,
   "metadata": {
    "vscode": {
     "languageId": "plaintext"
    }
   },
   "outputs": [],
   "source": [
    "#class OOP"
   ]
  }
 ],
 "metadata": {
  "kernelspec": {
   "display_name": "Pylearn",
   "language": "python",
   "name": "python3"
  },
  "language_info": {
   "codemirror_mode": {
    "name": "ipython",
    "version": 3
   },
   "file_extension": ".py",
   "mimetype": "text/x-python",
   "name": "python",
   "nbconvert_exporter": "python",
   "pygments_lexer": "ipython3",
   "version": "3.11.5"
  }
 },
 "nbformat": 4,
 "nbformat_minor": 2
}
