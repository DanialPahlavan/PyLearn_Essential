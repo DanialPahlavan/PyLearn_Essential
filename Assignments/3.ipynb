{
 "cells": [
  {
   "cell_type": "markdown",
   "metadata": {},
   "source": [
    "# Assignments 3 - CLI\n"
   ]
  },
  {
   "cell_type": "markdown",
   "metadata": {},
   "source": [
    "### Farsi Doc\n",
    "\n",
    "<div style=\"direction:rtl\"> \n",
    "\n",
    "\n",
    "\n",
    "بازی HangMan را تکمیل نمایید:\n",
    "شرط برنده شدن را پیاده سازی نمایید.\n",
    "مشکل ورود کاراکتر های uppercase را حل نمایید. (برای مثال اگر کلمه مورد نظر book باشد و کاربر حرف B بزرگ را وارد نماید، از او پذیرفته شود)\n",
    "\n",
    "یک آرایه به طول n را با اعداد تصادفی غیر تکراری پر نمایید. \n",
    "مثال: [2, 3, 6, 1, 0, 14, 16, 7]\n",
    "\n",
    "برنامه ای بنویسید که یک آرایه از کاربر دریافت نماید و سپس بررسی کند که آیا مقادیر آرایه از کوچک به بزرگ مرتب شده است یا خیر. برای مثال آرایه [1,2,4,6,7] مرتب است. اما آرایه [8,5,4,1,6,7] مرتب نیست.\n",
    "\n",
    "برنامه ای بنویسید که عدد n را از کاربر دریافت نماید. سپس یک مار راه راه به طول n رسم نماید. برای نمونه:\n",
    "ورودی: n = 9\n",
    "خروجی: *#*#*#*#*\n",
    "\n",
    "برنامه‌ای بنویسید که با دریافت دو عدد از کاربر ب.م.م آن ها را محاسبه کند.\n",
    "(با استفاده از حلقه for)\n",
    "\n",
    "برنامه‌ای بنویسید که با دریافت دو عدد از کاربر ک.م.م آن ها را محاسبه کند.\n",
    "(با استفاده از حلقه for)\n",
    "\n",
    "برنامه‌ای بنویسید که یک جمله از کاربر دریافت نموده و تعداد کلمات آن را شمارش نماید. مثال:\n",
    "ورودی: python is a powerful programming language\t\tخروجی: 6\n",
    "\n",
    "\n",
    "\n",
    "\n",
    "\n",
    "</div>\n"
   ]
  },
  {
   "cell_type": "markdown",
   "metadata": {},
   "source": [
    "### 3.1\n",
    "\n",
    "\n"
   ]
  },
  {
   "cell_type": "code",
   "execution_count": null,
   "metadata": {},
   "outputs": [],
   "source": [
    "#HangMan\n"
   ]
  },
  {
   "cell_type": "markdown",
   "metadata": {},
   "source": [
    "### 3.2 ✅\n",
    "\n",
    "Arrays with non repitive random number n "
   ]
  },
  {
   "cell_type": "code",
   "execution_count": 5,
   "metadata": {},
   "outputs": [
    {
     "name": "stdout",
     "output_type": "stream",
     "text": [
      "[66, 51, 48, 87, 78, 8, 68, 72, 74, 41, 70, 97, 39, 96, 36, 62, 12, 73, 40, 56, 20, 60, 52, 30, 100, 9, 50, 5, 71, 67, 94, 82, 49, 57, 27, 25, 84, 53, 64, 89, 14, 92, 11, 37]\n"
     ]
    }
   ],
   "source": [
    "import random\n",
    "\n",
    "ArraySize=int(input(\"array size : \"))\n",
    "a=[]\n",
    "for i in range (ArraySize):\n",
    "    RandomNumber=random.randint(1,100)\n",
    "    if RandomNumber not in a:\n",
    "        a.append(RandomNumber)\n",
    "\n",
    "print(a)"
   ]
  },
  {
   "cell_type": "markdown",
   "metadata": {},
   "source": [
    "### 3.3 ✅\n",
    "\n",
    "Get array from usr and check array is Sort or not"
   ]
  },
  {
   "cell_type": "code",
   "execution_count": 7,
   "metadata": {},
   "outputs": [
    {
     "name": "stdout",
     "output_type": "stream",
     "text": [
      "UserArray is: [1, 3, 2, 4, 5]\n",
      "its not Sort\n"
     ]
    }
   ],
   "source": [
    "#Not Finished\n",
    "ArraySize = int(input(\"Array size :\"))\n",
    "UserArray =[]\n",
    "NotSort = False\n",
    "for i in range (ArraySize):\n",
    "    UserArray.append(int(input(\"Write number:\")))\n",
    "\n",
    "print(\"UserArray is:\",UserArray)\n",
    "\n",
    "for i in UserArray:\n",
    "    for j in UserArray:\n",
    "        if i>j:\n",
    "            NotSort=True\n",
    "\n",
    "if NotSort:\n",
    "    print(\"its not Sort\")\n",
    "else:\n",
    "    print(\"sort\")\n",
    "\n",
    "\n"
   ]
  },
  {
   "cell_type": "markdown",
   "metadata": {},
   "source": [
    "### 3.4\n",
    " Snake print"
   ]
  },
  {
   "cell_type": "code",
   "execution_count": 22,
   "metadata": {},
   "outputs": [
    {
     "name": "stdout",
     "output_type": "stream",
     "text": [
      "*####"
     ]
    }
   ],
   "source": [
    "n=int(input(\"write n:\"))\n",
    "print(\"*\",end=\"\")\n",
    "while n / 2 > 1 :\n",
    "    print(\"##\",end=\"\")\n",
    "    n=n/2"
   ]
  },
  {
   "cell_type": "markdown",
   "metadata": {},
   "source": [
    "### 3.5 ✅"
   ]
  },
  {
   "cell_type": "code",
   "execution_count": 41,
   "metadata": {},
   "outputs": [
    {
     "name": "stdout",
     "output_type": "stream",
     "text": [
      "[2, 4, 5, 8, 10, 20]\n",
      "[2, 4, 5, 8, 10, 16, 20, 40]\n",
      "GCD: 20\n"
     ]
    }
   ],
   "source": [
    "#Least common multiple(GCD)\n",
    "\n",
    "# Get numbers\n",
    "NumA=int(input(\"Number 1:\"))\n",
    "NumB=int(input(\"Number 2:\"))\n",
    "\n",
    "#init\n",
    "MultA=[]\n",
    "MultB=[]\n",
    "GCD = 0\n",
    "FoundLCM = False\n",
    "#Find coefficients\n",
    "for i in range(2,NumA):\n",
    "    if NumA % i == 0 :\n",
    "        MultA.append(i) \n",
    "for j in range (2,NumB):\n",
    "    if NumB % j == 0:\n",
    "        MultB.append(j)\n",
    "print(MultA)\n",
    "print(MultB)\n",
    "\n",
    "#search between coefficients - GCD\n",
    "\n",
    "for i in (MultA):\n",
    "    for j in (MultB):\n",
    "        if i==j:\n",
    "            if i>GCD:\n",
    "                GCD = i\n",
    "\n",
    "if LCM == False:\n",
    "    print(\"Not Found\")\n",
    "else:\n",
    "    print(\"GCD:\",GCD)"
   ]
  },
  {
   "cell_type": "markdown",
   "metadata": {},
   "source": [
    "### 3.6 ✅\n"
   ]
  },
  {
   "cell_type": "code",
   "execution_count": 39,
   "metadata": {},
   "outputs": [
    {
     "name": "stdout",
     "output_type": "stream",
     "text": [
      "[2, 4, 5, 8, 10, 20]\n",
      "[5, 11]\n",
      "LCM: 5\n"
     ]
    }
   ],
   "source": [
    "#Least common multiple(LCM)\n",
    "\n",
    "# Get numbers\n",
    "NumA=int(input(\"Number 1:\"))\n",
    "NumB=int(input(\"Number 2:\"))\n",
    "\n",
    "#init\n",
    "MultA=[]\n",
    "MultB=[]\n",
    "LCM = 9999999\n",
    "FoundLCM = False\n",
    "#Find coefficients\n",
    "for i in range(2,NumA):\n",
    "    if NumA % i == 0 :\n",
    "        MultA.append(i) \n",
    "for j in range (2,NumB):\n",
    "    if NumB % j == 0:\n",
    "        MultB.append(j)\n",
    "print(MultA)\n",
    "print(MultB)\n",
    "\n",
    "#search between coefficients - LCM\n",
    "\n",
    "for i in (MultA):\n",
    "    for j in (MultB):\n",
    "        if i==j:\n",
    "            if i<LCM:\n",
    "                LCM = i\n",
    "\n",
    "if LCM == False:\n",
    "    print(\"Not Found\")\n",
    "else:\n",
    "    print(\"LCM:\",LCM)"
   ]
  },
  {
   "cell_type": "markdown",
   "metadata": {},
   "source": [
    "### 3.7 ✅"
   ]
  },
  {
   "cell_type": "code",
   "execution_count": 29,
   "metadata": {},
   "outputs": [
    {
     "name": "stdout",
     "output_type": "stream",
     "text": [
      "Text: hi my name is daniel\n",
      "5 Words\n"
     ]
    }
   ],
   "source": [
    "UserText=input(\"please write your phrase :\")\n",
    "print(\"Text:\",UserText)\n",
    "\n",
    "\n",
    "WordsNumber = len(UserText.split())\n",
    "print(WordsNumber,\"Words\")"
   ]
  }
 ],
 "metadata": {
  "kernelspec": {
   "display_name": "Pylearn",
   "language": "python",
   "name": "python3"
  },
  "language_info": {
   "codemirror_mode": {
    "name": "ipython",
    "version": 3
   },
   "file_extension": ".py",
   "mimetype": "text/x-python",
   "name": "python",
   "nbconvert_exporter": "python",
   "pygments_lexer": "ipython3",
   "version": "3.11.5"
  }
 },
 "nbformat": 4,
 "nbformat_minor": 2
}
