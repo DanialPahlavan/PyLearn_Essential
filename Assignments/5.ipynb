{
 "cells": [
  {
   "cell_type": "markdown",
   "metadata": {},
   "source": [
    "# Assignments 5 - CLI\n"
   ]
  },
  {
   "cell_type": "markdown",
   "metadata": {},
   "source": [
    "### Persian Doc\n",
    "\n",
    "<div style=\"direction:rtl\"> \n",
    "تابعی بنویسید که با دریافت پارامتر n و m، صفحه شطرنجی با ابعاد n*m چاپ نماید.\n",
    "*#*#*#*#*#\n",
    "#*#*#*#*#*\n",
    "*#*#*#*#*#\n",
    "#*#*#*#*#*\n",
    "تابعی بنویسید که با دریافت پارامتر n و m، جدول ضرب با ابعاد n*m چاپ نماید.\n",
    "\n",
    "تابعی بنویسید که با دریافت عدد ‌n از کاربر، یک لوزی به اندازه ‌n چاپ نماید.\n",
    "\n",
    "مثلث خیام پاسکال دنباله ای از اعداد است که در آن مقدار هر عنصر برابر با مجموع مقدار بالا و مقدار بالا سمت چپ است. با دریافت عدد n از کاربر؛ مثلث خیام پاسکال را تا سطر n ام محاسبه نموده؛ در یک آرایه دو بعدی ذخیره و سپس چاپ نمایید.\n",
    "\n",
    "\n",
    "\n",
    "\n",
    "</div>"
   ]
  },
  {
   "cell_type": "markdown",
   "metadata": {},
   "source": [
    "### 5.1\n",
    "\n"
   ]
  },
  {
   "cell_type": "code",
   "execution_count": 15,
   "metadata": {},
   "outputs": [
    {
     "name": "stdout",
     "output_type": "stream",
     "text": [
      "*#*#*#*\n",
      "*#*#*#*\n",
      "*#*#*#*\n",
      "*#*#*#*\n",
      "*#*#*#*\n"
     ]
    }
   ],
   "source": [
    "# print python board with function with parameter n,m\n",
    "#def\n",
    "# n : rows , m = column\n",
    "\n",
    "def Chess(a,b):\n",
    "    if a<=0 or b <=0:\n",
    "        print(\"Your Input is not true\")\n",
    "        return\n",
    "\n",
    "    for i in range (1,a+1):\n",
    "        for j in range(1,b+1):\n",
    "            if j %2 ==0:\n",
    "                if j == b:\n",
    "                    print(\"#\")\n",
    "                    break\n",
    "                else:\n",
    "                    print(\"#\",end=\"\")\n",
    "            elif j % 2 != 0:\n",
    "                if j == b:\n",
    "                    print(\"*\")\n",
    "                    break\n",
    "                else:\n",
    "                    print(\"*\",end=\"\")\n",
    "            \n",
    "\n",
    "\n",
    "n=int(input(\"n:\"))\n",
    "m=int(input(\"m:\"))\n",
    "Chess(n,m)"
   ]
  },
  {
   "cell_type": "markdown",
   "metadata": {},
   "source": [
    "### 5.2"
   ]
  },
  {
   "cell_type": "code",
   "execution_count": 39,
   "metadata": {},
   "outputs": [
    {
     "name": "stdout",
     "output_type": "stream",
     "text": [
      "--- --- --- \n",
      "1 | 2 | 3 | \n",
      "--- --- --- \n",
      "2 | 4 | 6 | \n"
     ]
    }
   ],
   "source": [
    "#print Multiplication table with function with parameter m n\n",
    "# n: row m: column\n",
    "#init n , m\n",
    "\n",
    "def MultiplicationTable(n,m):\n",
    "    if n<=0 or m <= 0 :\n",
    "        print(\"its Zero\")\n",
    "        return\n",
    "    for i in range (1,n+1):\n",
    "        print(\"--- \"*m)\n",
    "        for j in range(1,m+1):\n",
    "            print(i*j, end=\" | \")\n",
    "        print(\"\")\n",
    "\n",
    "n = int(input(\"n:\"))\n",
    "m = int(input(\"m:\"))\n",
    "\n",
    "MultiplicationTable(n,m)\n"
   ]
  },
  {
   "cell_type": "code",
   "execution_count": null,
   "metadata": {},
   "outputs": [],
   "source": [
    "# funtion that get n from user and lozi size n print"
   ]
  },
  {
   "cell_type": "code",
   "execution_count": null,
   "metadata": {},
   "outputs": [],
   "source": [
    "#mosalas khayam pascal get n user and store in arrays 2d"
   ]
  }
 ],
 "metadata": {
  "kernelspec": {
   "display_name": "Pylearn",
   "language": "python",
   "name": "python3"
  },
  "language_info": {
   "codemirror_mode": {
    "name": "ipython",
    "version": 3
   },
   "file_extension": ".py",
   "mimetype": "text/x-python",
   "name": "python",
   "nbconvert_exporter": "python",
   "pygments_lexer": "ipython3",
   "version": "3.11.5"
  }
 },
 "nbformat": 4,
 "nbformat_minor": 2
}
