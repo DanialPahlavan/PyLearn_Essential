{
 "cells": [
  {
   "cell_type": "markdown",
   "metadata": {},
   "source": [
    "# Assignments 20 - CLI\n"
   ]
  },
  {
   "cell_type": "markdown",
   "metadata": {},
   "source": [
    "## 20.1\n",
    "Database exercise with sql extension\n",
    "Create a database for Digikala with two tables:\n",
    "Customers: id, name, city, country\n",
    "Products: id, name, price, count\n",
    "1- Insert the desired information into the table using the INSERT command.\n",
    "2- Use the SELECT command to display only the available products.\n",
    "3- Use the DELETE command to delete non-Iranian customers.\n",
    "4- Use the UPDATE command to reduce the price of all goods by 20%. (For example, we live in a country where everything is cheap)\n",
    "\n",
    "Python programming practice with py extension\n",
    "5- Write a program that checks whether an array is symmetrical or not. For example, [1, 4, 3, 4, 1] is symmetric. But it is not [1, 2, 3].\n",
    "6- Suppose we have two arrays:\n",
    "boys = [mohammad, sobhan, abdollah, kiya, mahdi, sajjad, homan, arman]\n",
    "girls = [mahtab, hane, harir, fateme, kiana, faezeh, minoo, mina, soghra]\n",
    "Write a program to randomly marry each boy and girl. For example:\n",
    "results = [(sajjad, soghra), (abdollah, minoo) , …]\n",
    "Note that a boy cannot marry two girls at the same time and vice versa\n",
    "\n",
    "7- Implement the game \"Palam, Pollom, Pilish\" as User vs Computer1 vs Computer2.\n",
    "The user chooses an option from ✋ and 🤚.\n",
    "Computers also randomly choose an option. Then the winner will be determined.\n",
    "This process is repeated 5 times and at the end the overall winner is determined.\n"
   ]
  }
 ],
 "metadata": {
  "kernelspec": {
   "display_name": "Pylearn",
   "language": "python",
   "name": "python3"
  },
  "language_info": {
   "codemirror_mode": {
    "name": "ipython",
    "version": 3
   },
   "file_extension": ".py",
   "mimetype": "text/x-python",
   "name": "python",
   "nbconvert_exporter": "python",
   "pygments_lexer": "ipython3",
   "version": "3.11.5"
  }
 },
 "nbformat": 4,
 "nbformat_minor": 2
}
