{
 "cells": [
  {
   "cell_type": "markdown",
   "metadata": {},
   "source": [
    "# Assignments 15 - CLI\n"
   ]
  },
  {
   "cell_type": "markdown",
   "metadata": {},
   "source": [
    "### Persian Doc\n",
    "\n",
    "<div style=\"direction:rtl\"> \n",
    "\n",
    "در بازی Super Snake قابلیت های زیر را اضافه کنید:\n",
    "امتیاز مار در صفحه بازی قابل مشاهده باشد.\n",
    "بدن مار را به صورت راه راه رنگ آمیزی نمایید.\n",
    "با خوردن هر 🍎 طول بدن مار یک واحد افزایش پیدا کند.\n",
    "کلاس 🍐- با خوردن هر 🍐امتیاز مار ۲ واحد افزایش پیدا می‌کند.\n",
    "کلاس 💩 - اگر مار 💩 بخورد، ۱ واحد از امتیاز آن کم می‌شود.\n",
    "اگر امتیاز مار به صفر رسید، پیام Game Over روی صفحه بازی چاپ شود.\n",
    "اگر مار به دیوار صفحه بازی برخورد کرد، پیام Game Over روی صفحه بازی چاپ شود.\n",
    "اگر مار به بدن خودش برخورد کرد، پیام Game Over روی صفحه بازی چاپ شود.\n",
    "در یک فایل جداگانه، هوش مصنوعی را به بازی اضافه نمایید. مار بدون فرمان گرفتن از کاربر، به صورت خودکار حرکت نماید و به سمت غذا برود.\n",
    "ساختار فایل های شما باید به صورت زیر باشد:\n",
    "apple.py\n",
    "snake.py\n",
    "main.py\n",
    "main_ai.py\n",
    "\n",
    "</div>"
   ]
  },
  {
   "cell_type": "markdown",
   "metadata": {},
   "source": [
    "## 15.1\n",
    "\n"
   ]
  }
 ],
 "metadata": {
  "kernelspec": {
   "display_name": "Pylearn",
   "language": "python",
   "name": "python3"
  },
  "language_info": {
   "codemirror_mode": {
    "name": "ipython",
    "version": 3
   },
   "file_extension": ".py",
   "mimetype": "text/x-python",
   "name": "python",
   "nbconvert_exporter": "python",
   "pygments_lexer": "ipython3",
   "version": "3.11.5"
  }
 },
 "nbformat": 4,
 "nbformat_minor": 2
}
