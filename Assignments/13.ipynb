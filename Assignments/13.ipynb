{
 "cells": [
  {
   "cell_type": "markdown",
   "metadata": {},
   "source": [
    "# Assignments 13 - CLI\n"
   ]
  },
  {
   "cell_type": "markdown",
   "metadata": {},
   "source": [
    "### Persian Doc\n",
    "\n",
    "<div style=\"direction:rtl\"> \n",
    "\n",
    "\n",
    "۱ - بازی Spaceship را تا بخشی که در کلاس تدریس شد، طراحی نمایید. 🚀🌍\n",
    "۲ - خروجی زیر را با arcade طراحی نمایید.\n",
    "\n",
    "راهنمایی: https://api.arcade.academy/en/latest/examples/nested_loops_bottom_left_triangle.html#nested-loops-bottom-left-triangle\n",
    "\n",
    "</div>"
   ]
  },
  {
   "cell_type": "markdown",
   "metadata": {},
   "source": [
    "## 13.1\n",
    "\n"
   ]
  }
 ],
 "metadata": {
  "kernelspec": {
   "display_name": "Pylearn",
   "language": "python",
   "name": "python3"
  },
  "language_info": {
   "codemirror_mode": {
    "name": "ipython",
    "version": 3
   },
   "file_extension": ".py",
   "mimetype": "text/x-python",
   "name": "python",
   "nbconvert_exporter": "python",
   "pygments_lexer": "ipython3",
   "version": "3.11.5"
  }
 },
 "nbformat": 4,
 "nbformat_minor": 2
}
