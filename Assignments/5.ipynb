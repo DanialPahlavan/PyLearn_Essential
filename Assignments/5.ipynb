{
 "cells": [
  {
   "cell_type": "markdown",
   "metadata": {},
   "source": [
    "# Assignments 5 - CLI\n"
   ]
  },
  {
   "cell_type": "markdown",
   "metadata": {},
   "source": [
    "### Persian Doc\n",
    "\n",
    "<div style=\"direction:rtl\"> \n",
    "تابعی بنویسید که با دریافت پارامتر n و m، صفحه شطرنجی با ابعاد n*m چاپ نماید.\n",
    "*#*#*#*#*#\n",
    "#*#*#*#*#*\n",
    "*#*#*#*#*#\n",
    "#*#*#*#*#*\n",
    "تابعی بنویسید که با دریافت پارامتر n و m، جدول ضرب با ابعاد n*m چاپ نماید.\n",
    "\n",
    "تابعی بنویسید که با دریافت عدد ‌n از کاربر، یک لوزی به اندازه ‌n چاپ نماید.\n",
    "\n",
    "مثلث خیام پاسکال دنباله ای از اعداد است که در آن مقدار هر عنصر برابر با مجموع مقدار بالا و مقدار بالا سمت چپ است. با دریافت عدد n از کاربر؛ مثلث خیام پاسکال را تا سطر n ام محاسبه نموده؛ در یک آرایه دو بعدی ذخیره و سپس چاپ نمایید.\n",
    "\n",
    "\n",
    "\n",
    "\n",
    "</div>"
   ]
  },
  {
   "cell_type": "markdown",
   "metadata": {},
   "source": [
    "## 5.1\n",
    "\n"
   ]
  }
 ],
 "metadata": {
  "kernelspec": {
   "display_name": "Pylearn",
   "language": "python",
   "name": "python3"
  },
  "language_info": {
   "codemirror_mode": {
    "name": "ipython",
    "version": 3
   },
   "file_extension": ".py",
   "mimetype": "text/x-python",
   "name": "python",
   "nbconvert_exporter": "python",
   "pygments_lexer": "ipython3",
   "version": "3.11.5"
  }
 },
 "nbformat": 4,
 "nbformat_minor": 2
}
