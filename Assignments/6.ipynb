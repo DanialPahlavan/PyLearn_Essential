{
 "cells": [
  {
   "cell_type": "markdown",
   "metadata": {},
   "source": [
    "# Assignments 6 - CLI\n"
   ]
  },
  {
   "cell_type": "markdown",
   "metadata": {},
   "source": [
    "### Persian Doc\n",
    "\n",
    "<div style=\"direction:rtl\"> \n",
    "برای بازی TicTacToe امکانات زیر را اضافه نمایید:\n",
    "تکمیل شرط برنده شدن و مساوی شدن بازیکن‌ها\n",
    "حالت تک بازیکن با کامپیوتر (Player vs CPU) و دو بازیکن (Player vs Player) - انتخاب از طریق منو\n",
    "نمایش مهره‌های دو بازیکن با دو رنگ متفاوت XO (استفاده از یک کتابخانه دلخواه)\n",
    "چاپ زمان سپری شده پس از اتمام بازی\n",
    "\n",
    "خروجی زیر را با turtle رسم نمایید.\n",
    "تابعی بنویسید برای حل معادله درجه سه. \n",
    "راهنمایی: (https://fa.wikipedia.org/wiki/معادله_درجه_سه)\n",
    "\n",
    "\n",
    "</div>"
   ]
  },
  {
   "cell_type": "markdown",
   "metadata": {},
   "source": [
    "## 6.1\n",
    "\n"
   ]
  }
 ],
 "metadata": {
  "kernelspec": {
   "display_name": "Pylearn",
   "language": "python",
   "name": "python3"
  },
  "language_info": {
   "codemirror_mode": {
    "name": "ipython",
    "version": 3
   },
   "file_extension": ".py",
   "mimetype": "text/x-python",
   "name": "python",
   "nbconvert_exporter": "python",
   "pygments_lexer": "ipython3",
   "version": "3.11.5"
  }
 },
 "nbformat": 4,
 "nbformat_minor": 2
}
