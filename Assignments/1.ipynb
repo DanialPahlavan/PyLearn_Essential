{
 "cells": [
  {
   "cell_type": "markdown",
   "metadata": {},
   "source": [
    "# Assignments 1 - CLI\n",
    "\n"
   ]
  },
  {
   "cell_type": "markdown",
   "metadata": {},
   "source": [
    "## Assignment 1.1\n",
    "\n",
    "Write a basic calculator that has the following features:\n",
    "- sqrt\n",
    "- sin\n",
    "- cos\n",
    "- tan\n",
    "- cot\n",
    "- factorial\n",
    "\n",
    "Note: trigonometric functions such as sin or tan in Python receive the angle in radians. You write code to convert degrees to radians for trigonometric functions."
   ]
  },
  {
   "cell_type": "code",
   "execution_count": 1,
   "metadata": {},
   "outputs": [
    {
     "name": "stdout",
     "output_type": "stream",
     "text": [
      "Welcome to Calculator v0.01 CLI\n",
      "Operation List \n",
      " 1:- \n",
      " 2:+ \n",
      " 3:* \n",
      " 4:/ \n",
      " 5:sqrt \n",
      " 6:factorial ,\n",
      " 7:sin \n",
      " 8:cos \n",
      " 9:tan \n",
      " 10:cot \n",
      "Result=> 10.0 + 2.0 = 12.0\n"
     ]
    }
   ],
   "source": [
    "import math\n",
    "\n",
    "#clear Workspace\n",
    "operation=FirstNumber=SecondNumber=Number=0\n",
    "\n",
    "#Calculator\n",
    "print(\"Welcome to Calculator v0.01 CLI\")\n",
    "\n",
    "print(\"Operation List \\n 1:- \\n 2:+ \\n 3:* \\n 4:/ \\n 5:sqrt \\n 6:factorial ,\\n 7:sin \\n 8:cos \\n 9:tan \\n 10:cot \")\n",
    "operation = int(input(\" What math operation do you want to do ? (operation number 1...10) \"))\n",
    "\n",
    "\n",
    "# Condition for knowing how many number we need\n",
    "if operation in range(1,5):\n",
    "    FirstNumber = float(input(\"Write First number\"))\n",
    "    SecondNumber =float(input(\"Write Second number\"))\n",
    "elif operation in range(5,7):\n",
    "    Number=int(input(\"Write Number\"))\n",
    "elif operation in range(7,11):\n",
    "    Degree=int(input(\"Write degree\"))\n",
    "    Radian = math.radians(Degree)\n",
    "else:\n",
    "    print(\"Operation input is wrong\")\n",
    "\n",
    "# Zero Div Condition\n",
    "if operation==4 and SecondNumber == 0:\n",
    "    print(\"zero Div Error\")\n",
    "\n",
    "else:\n",
    "# for python 3.10+ we use match-case for switching behavior\n",
    "#List  1:-  2:+  3:*  4:/  5:sqrt 6:factorial 7:sin  8:cos  9:tan  10:cot\n",
    "    match operation:\n",
    "        case 1:print(\"Result=>\",FirstNumber,\"+\",SecondNumber,\"=\",FirstNumber+SecondNumber)\n",
    "        case 2:print(\"Result=>\",FirstNumber,\"-\",SecondNumber,\"=\",FirstNumber-SecondNumber)\n",
    "        case 3:print(\"Result=>\",FirstNumber,\"*\",SecondNumber,\"=\",FirstNumber*SecondNumber)\n",
    "        case 4:print(\"Result=>\",FirstNumber,\" / \",SecondNumber,\"=\",FirstNumber/SecondNumber)\n",
    "        case 5:print(\"Result=>\",\"Sqrt(\",Number,\")=\",math.sqrt(Number))\n",
    "        case 6:print(\"Result=>\",\"Factorial(\",Number,\")=\",math.factorial(Number))\n",
    "        case 7:print(\"Result=>\",\"Sin(\",Degree,\")=\",math.sin(Radian))\n",
    "        case 8:print(\"Result=>\",\"Cos(\",Degree,\")=\",math.cos(Radian))\n",
    "        case 9:print(\"Result=>\",\"Tan(\",Degree,\")=\",math.tan(Radian))\n",
    "        case 10:print(\"Result=>\",\"Cot(\",Degree,\")=\",1/math.tan(Radian))\n",
    "        \n",
    "        case _:\n",
    "            print(\"Your Operation not supported or Wrong\")\n",
    "\n",
    "\n"
   ]
  },
  {
   "cell_type": "markdown",
   "metadata": {},
   "source": [
    "## Assignment 1.2\n",
    "\n",
    "Write a program that receives the size of three sides of a triangle and determines whether it is possible to draw such a triangle or not?\n",
    "Hint: In mathematics, it is a theorem that states that in any triangle, the size of each side is smaller than the sum of the sizes of the other two sides."
   ]
  },
  {
   "cell_type": "code",
   "execution_count": 27,
   "metadata": {},
   "outputs": [
    {
     "name": "stdout",
     "output_type": "stream",
     "text": [
      "The Triangle Drawable\n"
     ]
    }
   ],
   "source": [
    "# Triangle Checker\n",
    "\n",
    "FirstSide = int(input(\"Write First side of the triangle\"))\n",
    "SecondSide = int(input(\"Write Second side of the triangle\"))\n",
    "ThirdSide = int(input(\"Write Third side of the triangle\"))\n",
    "\n",
    "#check triable a side < sum of two side\n",
    "if  FirstSide+SecondSide > ThirdSide and FirstSide + ThirdSide > SecondSide and SecondSide+ThirdSide>FirstSide:\n",
    "    print(\"The Triangle Drawable\")\n",
    "\n",
    "else:\n",
    "    print(\"The Triangle Can't Draw\")"
   ]
  },
  {
   "cell_type": "markdown",
   "metadata": {},
   "source": [
    "## Assignment 1.3\n",
    "\n",
    "Write a program that receives the student's name and surname and the grade of three subjects and prints the student's academic status in the output after calculating the grade point average. (normal, privileged, conditional)\n"
   ]
  },
  {
   "cell_type": "code",
   "execution_count": 37,
   "metadata": {},
   "outputs": [
    {
     "name": "stdout",
     "output_type": "stream",
     "text": [
      "Student: dany \n",
      " Condition: Normal\n",
      "Student: 12 \n",
      " Condition: Great\n",
      "Student: dgr \n",
      " Condition: Normal\n"
     ]
    }
   ],
   "source": [
    "\n",
    "#average courses\n",
    "def StudentConditionChecker(average):\n",
    "    if average >= 17:\n",
    "        result = \"Great\"\n",
    "    elif average >= 12:\n",
    "        result=\"Normal\"\n",
    "\n",
    "    elif average <12:\n",
    "        result=\"Fail\"\n",
    "    \n",
    "    else : \n",
    "        result=\"Somethings Wrong happened\"\n",
    "    return result\n",
    "\n",
    "\n",
    "for i in range (1,4):\n",
    "    StudentName=input(\"please Write Student Name,surename\")\n",
    "    Course1 = float (input(\"Course 1 Score of Student\"))\n",
    "    Course2 = float (input(\"Course 1 Score of Student\")) \n",
    "    Course3 = float (input(\"Course 1 Score of Student\"))\n",
    "    averageStudent =(Course1+Course2+Course3)/3  \n",
    "\n",
    "    print(\"Student:\",StudentName,\"\\n\",\"Condition:\",StudentConditionChecker(averageStudent))\n",
    "\n",
    "\n",
    "\n",
    "\n",
    "\n"
   ]
  },
  {
   "cell_type": "markdown",
   "metadata": {},
   "source": [
    "## Assignment 1.4\n",
    "\n",
    "Write a program that by receiving the weight (kilograms) and height (meters) of a person, calculates the BMI index for that person and according to the values in the figure below, prints an appropriate message about the person's body mass."
   ]
  },
  {
   "cell_type": "code",
   "execution_count": 32,
   "metadata": {},
   "outputs": [
    {
     "name": "stdout",
     "output_type": "stream",
     "text": [
      "Over Weight\n"
     ]
    }
   ],
   "source": [
    "Weight = float(input(\"please enter your weight(KG)\"))\n",
    "Height = float(input(\"please enter your height(Meters)\"))\n",
    "\n",
    "BMI = Weight/Height**2\n",
    "\n",
    "if BMI <18.5:\n",
    "    print(\"under weight\")\n",
    "elif BMI <=24.9 :\n",
    "    print(\"Normal Weight\")\n",
    "elif BMI <=29.9 :\n",
    "    print(\"Over Weight\")\n",
    "elif BMI <=34.9 :\n",
    "    print(\"Obesity\")\n",
    "elif BMI <=39.9 :\n",
    "    print(\"Extreme Obesity\")\n",
    "elif BMI >40 :\n",
    "    print(\"Input Wrong Or Its not In calculation Table Range\")\n",
    "\n",
    "\n",
    "\n",
    "\n"
   ]
  }
 ],
 "metadata": {
  "kernelspec": {
   "display_name": "PyLearn",
   "language": "python",
   "name": "python3"
  },
  "language_info": {
   "codemirror_mode": {
    "name": "ipython",
    "version": 3
   },
   "file_extension": ".py",
   "mimetype": "text/x-python",
   "name": "python",
   "nbconvert_exporter": "python",
   "pygments_lexer": "ipython3",
   "version": "3.11.5"
  }
 },
 "nbformat": 4,
 "nbformat_minor": 2
}
