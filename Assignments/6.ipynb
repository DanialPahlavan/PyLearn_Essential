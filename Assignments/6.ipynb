{
 "cells": [
  {
   "cell_type": "markdown",
   "metadata": {},
   "source": [
    "# Assignments 6 - CLI\n"
   ]
  },
  {
   "cell_type": "markdown",
   "metadata": {},
   "source": [
    "## Docs"
   ]
  },
  {
   "cell_type": "markdown",
   "metadata": {},
   "source": [
    "### English Doc"
   ]
  },
  {
   "cell_type": "markdown",
   "metadata": {},
   "source": [
    "### Persian Doc\n",
    "\n",
    "<div style=\"direction:rtl\"> \n",
    "برای بازی TicTacToe امکانات زیر را اضافه نمایید:\n",
    "تکمیل شرط برنده شدن و مساوی شدن بازیکن‌ها\n",
    "حالت تک بازیکن با کامپیوتر (Player vs CPU) و دو بازیکن (Player vs Player) - انتخاب از طریق منو\n",
    "نمایش مهره‌های دو بازیکن با دو رنگ متفاوت XO (استفاده از یک کتابخانه دلخواه)\n",
    "چاپ زمان سپری شده پس از اتمام بازی\n",
    "\n",
    "خروجی زیر را با turtle رسم نمایید.\n",
    "تابعی بنویسید برای حل معادله درجه سه. \n",
    "راهنمایی: (https://fa.wikipedia.org/wiki/معادله_درجه_سه)\n",
    "\n",
    "\n",
    "</div>"
   ]
  },
  {
   "cell_type": "markdown",
   "metadata": {},
   "source": [
    "## Solutions"
   ]
  },
  {
   "cell_type": "markdown",
   "metadata": {},
   "source": [
    "### 6.1 TikTacToe \n",
    "\n",
    " Features\n",
    "* win condition and draw condition\n",
    "* plaer vs cpu and cpu vs cpu\n",
    "* add color with symbol XO\n",
    "* print time spent\n",
    "\n"
   ]
  },
  {
   "cell_type": "code",
   "execution_count": 14,
   "metadata": {},
   "outputs": [
    {
     "name": "stdout",
     "output_type": "stream",
     "text": [
      "  _______         ______              ______         \n",
      " /_  __(_)____   /_  __/___ ______   /_  __/___  ___ \n",
      "  / / / / ___/    / / / __ `/ ___/    / / / __ \\/ _ \\\n",
      " / / / / /__     / / / /_/ / /__     / / / /_/ /  __/\n",
      "/_/ /_/\\___/    /_/  \\__,_/\\___/    /_/  \\____/\\___/ \n",
      "                                                     \n",
      "\n",
      "Please enter game:\n"
     ]
    },
    {
     "name": "stdout",
     "output_type": "stream",
     "text": [
      "- - - \n",
      "- - - \n",
      "- - - \n",
      "Player\n",
      "- - - \n",
      "- O - \n",
      "- - - \n",
      "CPU\n",
      "- - - \n",
      "- O - \n",
      "X - - \n",
      "Player\n",
      "- - O \n",
      "- O - \n",
      "X - - \n",
      "CPU\n",
      "- X O \n",
      "- O - \n",
      "X - - \n",
      "Player\n",
      "O X O \n",
      "- O - \n",
      "X - - \n",
      "CPU\n",
      "O X O \n",
      "- O X \n",
      "X - - \n",
      "Player\n",
      "O X O \n",
      "- O X \n",
      "X - O \n",
      "Player 2 wins\n"
     ]
    }
   ],
   "source": [
    "import pyfiglet\n",
    "import random\n",
    "\n",
    "def show():\n",
    "    for row in game_board:\n",
    "        for cell in row:\n",
    "            print(cell, end=\" \")\n",
    "        print()\n",
    "\n",
    "def check_game():\n",
    "    for symbol in [\"X\", \"O\"]:\n",
    "        # Check rows, columns, and diagonals\n",
    "        for i in range(3):\n",
    "            if all(cell == symbol for cell in game_board[i]) or all(game_board[j][i] == symbol for j in range(3)):\n",
    "                print(f\"Player {players[symbol]} wins\")\n",
    "                return True\n",
    "        if all(game_board[i][i] == symbol for i in range(3)) or all(game_board[i][2 - i] == symbol for i in range(3)):\n",
    "            print(f\"Player {players[symbol]} wins\")\n",
    "            return True\n",
    "\n",
    "    # Check for a draw\n",
    "    if all(cell != \"-\" for row in game_board for cell in row):\n",
    "        print(\"It's a draw!\")\n",
    "        return True\n",
    "\n",
    "    return False\n",
    "\n",
    "title = pyfiglet.figlet_format(\"Tic Tac Toe\", font=\"slant\")\n",
    "print(title)\n",
    "\n",
    "players = {\"X\": 1, \"O\": 2}\n",
    "\n",
    "print(\"Please enter game:\")\n",
    "mode = int(input(\"1) One Player\\n2) Two Players\\n\"))\n",
    "\n",
    "game_board = [[\"-\" for _ in range(3)] for _ in range(3)]\n",
    "show()\n",
    "\n",
    "while True:\n",
    "    if mode == 1:\n",
    "        player_symbol = \"O\"\n",
    "        print(\"Player\")\n",
    "        while True:\n",
    "            row = int(input(\"Row: \"))\n",
    "            col = int(input(\"Column: \"))\n",
    "            if 0 <= row <= 2 and 0 <= col <= 2:\n",
    "                if game_board[row][col] == \"-\":\n",
    "                    game_board[row][col] = player_symbol\n",
    "                    break\n",
    "                else:\n",
    "                    print(\"Cell is already filled.\")\n",
    "            else:\n",
    "                #Table Input Error\n",
    "                print(\"Invalid input. Please enter a number between 0 and 2.\")\n",
    "        show()\n",
    "\n",
    "        if check_game():\n",
    "            break\n",
    "\n",
    "        print(\"CPU\")\n",
    "        while True:\n",
    "            row = random.randint(0, 2)\n",
    "            col = random.randint(0, 2)\n",
    "            if game_board[row][col] == \"-\":\n",
    "                game_board[row][col] = \"X\"\n",
    "                break\n",
    "        show()\n",
    "\n",
    "        if check_game():\n",
    "            break\n",
    "\n",
    "    elif mode == 2:\n",
    "        for player_symbol in [\"X\", \"O\"]:\n",
    "            print(f\"Player {players[player_symbol]}\")\n",
    "            while True:\n",
    "                row = int(input(\"Row: \"))\n",
    "                col = int(input(\"Column: \"))\n",
    "                if 0 <= row <= 2 and 0 <= col <= 2:\n",
    "                    if game_board[row][col] == \"-\":\n",
    "                        game_board[row][col] = player_symbol\n",
    "                        break\n",
    "                    else:\n",
    "                        print(\"Cell is already filled.\")\n",
    "                else:\n",
    "                    #table input Error\n",
    "                    print(\"Invalid input. Please enter a number between 0 and 2.\")\n",
    "            show()\n",
    "\n",
    "            if check_game():\n",
    "                break\n",
    "    else:\n",
    "        #mod Select Error\n",
    "        print(\"Invalid selection. Please choose 1 or 2.\")\n",
    "        break\n"
   ]
  },
  {
   "attachments": {
    "image-3.png": {
     "image/png": "[encoded data removed]"
    },
    "image.png": {
     "image/png": "[encoded data removed]"
    }
   },
   "cell_type": "markdown",
   "metadata": {},
   "source": [
    "### 6.2 Turtle Printer\n",
    "\n",
    "![image-3.png](attachment:image-3.png)\n",
    "\n",
    "\n",
    "output - run .py code \n",
    "\n",
    "![image.png](attachment:image.png)"
   ]
  },
  {
   "cell_type": "code",
   "execution_count": 3,
   "metadata": {},
   "outputs": [
    {
     "ename": "KeyboardInterrupt",
     "evalue": "",
     "output_type": "error",
     "traceback": [
      "\u001b[1;31m---------------------------------------------------------------------------\u001b[0m",
      "\u001b[1;31mKeyboardInterrupt\u001b[0m                         Traceback (most recent call last)",
      "Cell \u001b[1;32mIn[3], line 14\u001b[0m\n\u001b[0;32m     12\u001b[0m \u001b[38;5;28;01mfor\u001b[39;00m j \u001b[38;5;129;01min\u001b[39;00m \u001b[38;5;28mrange\u001b[39m(n):\n\u001b[0;32m     13\u001b[0m     p\u001b[38;5;241m.\u001b[39mforward(s \u001b[38;5;241m+\u001b[39m j)\n\u001b[1;32m---> 14\u001b[0m     p\u001b[38;5;241m.\u001b[39mleft(i)\n\u001b[0;32m     16\u001b[0m p\u001b[38;5;241m.\u001b[39mforward(s \u001b[38;5;241m+\u001b[39m j)\n\u001b[0;32m     17\u001b[0m p\u001b[38;5;241m.\u001b[39mleft(i)\n",
      "File \u001b[1;32mc:\\ProgramData\\anaconda3\\envs\\pylearn\\Lib\\turtle.py:1700\u001b[0m, in \u001b[0;36mTNavigator.left\u001b[1;34m(self, angle)\u001b[0m\n\u001b[0;32m   1681\u001b[0m \u001b[38;5;28;01mdef\u001b[39;00m \u001b[38;5;21mleft\u001b[39m(\u001b[38;5;28mself\u001b[39m, angle):\n\u001b[0;32m   1682\u001b[0m \u001b[38;5;250m    \u001b[39m\u001b[38;5;124;03m\"\"\"Turn turtle left by angle units.\u001b[39;00m\n\u001b[0;32m   1683\u001b[0m \n\u001b[0;32m   1684\u001b[0m \u001b[38;5;124;03m    Aliases: left | lt\u001b[39;00m\n\u001b[1;32m   (...)\u001b[0m\n\u001b[0;32m   1698\u001b[0m \u001b[38;5;124;03m    67.0\u001b[39;00m\n\u001b[0;32m   1699\u001b[0m \u001b[38;5;124;03m    \"\"\"\u001b[39;00m\n\u001b[1;32m-> 1700\u001b[0m     \u001b[38;5;28mself\u001b[39m\u001b[38;5;241m.\u001b[39m_rotate(angle)\n",
      "File \u001b[1;32mc:\\ProgramData\\anaconda3\\envs\\pylearn\\Lib\\turtle.py:3295\u001b[0m, in \u001b[0;36mRawTurtle._rotate\u001b[1;34m(self, angle)\u001b[0m\n\u001b[0;32m   3293\u001b[0m         \u001b[38;5;28mself\u001b[39m\u001b[38;5;241m.\u001b[39m_update()\n\u001b[0;32m   3294\u001b[0m \u001b[38;5;28mself\u001b[39m\u001b[38;5;241m.\u001b[39m_orient \u001b[38;5;241m=\u001b[39m neworient\n\u001b[1;32m-> 3295\u001b[0m \u001b[38;5;28mself\u001b[39m\u001b[38;5;241m.\u001b[39m_update()\n",
      "File \u001b[1;32mc:\\ProgramData\\anaconda3\\envs\\pylearn\\Lib\\turtle.py:2664\u001b[0m, in \u001b[0;36mRawTurtle._update\u001b[1;34m(self)\u001b[0m\n\u001b[0;32m   2662\u001b[0m     \u001b[38;5;28mself\u001b[39m\u001b[38;5;241m.\u001b[39m_drawturtle()\n\u001b[0;32m   2663\u001b[0m     screen\u001b[38;5;241m.\u001b[39m_update()                  \u001b[38;5;66;03m# TurtleScreenBase\u001b[39;00m\n\u001b[1;32m-> 2664\u001b[0m     screen\u001b[38;5;241m.\u001b[39m_delay(screen\u001b[38;5;241m.\u001b[39m_delayvalue) \u001b[38;5;66;03m# TurtleScreenBase\u001b[39;00m\n\u001b[0;32m   2665\u001b[0m \u001b[38;5;28;01melse\u001b[39;00m:\n\u001b[0;32m   2666\u001b[0m     \u001b[38;5;28mself\u001b[39m\u001b[38;5;241m.\u001b[39m_update_data()\n",
      "File \u001b[1;32mc:\\ProgramData\\anaconda3\\envs\\pylearn\\Lib\\turtle.py:566\u001b[0m, in \u001b[0;36mTurtleScreenBase._delay\u001b[1;34m(self, delay)\u001b[0m\n\u001b[0;32m    564\u001b[0m \u001b[38;5;28;01mdef\u001b[39;00m \u001b[38;5;21m_delay\u001b[39m(\u001b[38;5;28mself\u001b[39m, delay):\n\u001b[0;32m    565\u001b[0m \u001b[38;5;250m    \u001b[39m\u001b[38;5;124;03m\"\"\"Delay subsequent canvas actions for delay ms.\"\"\"\u001b[39;00m\n\u001b[1;32m--> 566\u001b[0m     \u001b[38;5;28mself\u001b[39m\u001b[38;5;241m.\u001b[39mcv\u001b[38;5;241m.\u001b[39mafter(delay)\n",
      "File \u001b[1;32mc:\\ProgramData\\anaconda3\\envs\\pylearn\\Lib\\tkinter\\__init__.py:856\u001b[0m, in \u001b[0;36mMisc.after\u001b[1;34m(self, ms, func, *args)\u001b[0m\n\u001b[0;32m    848\u001b[0m \u001b[38;5;250m\u001b[39m\u001b[38;5;124;03m\"\"\"Call function once after given time.\u001b[39;00m\n\u001b[0;32m    849\u001b[0m \n\u001b[0;32m    850\u001b[0m \u001b[38;5;124;03mMS specifies the time in milliseconds. FUNC gives the\u001b[39;00m\n\u001b[0;32m    851\u001b[0m \u001b[38;5;124;03mfunction which shall be called. Additional parameters\u001b[39;00m\n\u001b[0;32m    852\u001b[0m \u001b[38;5;124;03mare given as parameters to the function call.  Return\u001b[39;00m\n\u001b[0;32m    853\u001b[0m \u001b[38;5;124;03midentifier to cancel scheduling with after_cancel.\"\"\"\u001b[39;00m\n\u001b[0;32m    854\u001b[0m \u001b[38;5;28;01mif\u001b[39;00m func \u001b[38;5;129;01mis\u001b[39;00m \u001b[38;5;28;01mNone\u001b[39;00m:\n\u001b[0;32m    855\u001b[0m     \u001b[38;5;66;03m# I'd rather use time.sleep(ms*0.001)\u001b[39;00m\n\u001b[1;32m--> 856\u001b[0m     \u001b[38;5;28mself\u001b[39m\u001b[38;5;241m.\u001b[39mtk\u001b[38;5;241m.\u001b[39mcall(\u001b[38;5;124m'\u001b[39m\u001b[38;5;124mafter\u001b[39m\u001b[38;5;124m'\u001b[39m, ms)\n\u001b[0;32m    857\u001b[0m     \u001b[38;5;28;01mreturn\u001b[39;00m \u001b[38;5;28;01mNone\u001b[39;00m\n\u001b[0;32m    858\u001b[0m \u001b[38;5;28;01melse\u001b[39;00m:\n",
      "\u001b[1;31mKeyboardInterrupt\u001b[0m: "
     ]
    }
   ],
   "source": [
    "#print output with turtle\n",
    "#Not Showing in ipynb \n",
    "\n",
    "import turtle\n",
    "\n",
    "p = turtle.Pen()\n",
    "s = 10\n",
    "n = 3\n",
    "max_iterations = 100\n",
    "\n",
    "while n <= max_iterations:\n",
    "    i = 360 / n\n",
    "    for j in range(n):\n",
    "        p.forward(s + j)\n",
    "        p.left(i)\n",
    "    \n",
    "    p.forward(s + j)\n",
    "    p.left(i)\n",
    "    n += 1\n",
    "    s += 5\n",
    "\n",
    "turtle.done()\n",
    "\n"
   ]
  },
  {
   "cell_type": "markdown",
   "metadata": {},
   "source": [
    "### 6.3 Cubic_equation Solver\n",
    "\n",
    "Ref : https://en.wikipedia.org/wiki/Cubic_equation"
   ]
  },
  {
   "cell_type": "code",
   "execution_count": 11,
   "metadata": {},
   "outputs": [
    {
     "name": "stdout",
     "output_type": "stream",
     "text": [
      "-1.0 (-3.700743415417188e-17-1j) (-3.700743415417188e-17+1j)\n"
     ]
    }
   ],
   "source": [
    "#Cubic Equation Solver\n",
    "\n",
    "import math\n",
    "\n",
    "def darage_3(a, b, c, d):\n",
    "    a = float(a)\n",
    "    b = float(b)\n",
    "    c = float(c)\n",
    "    d = float(d)\n",
    "    \n",
    "    #Formulation\n",
    "    delta0 = (b**2) - (3*a**3)\n",
    "    delta1 = 2*b**3 - 9*a*b*c + 27*a**2*d\n",
    "\n",
    "    u1 = 1\n",
    "    u2 = complex(-1, math.sqrt(3)) * 0.5\n",
    "    u3 = complex(-1, -math.sqrt(3)) * 0.5\n",
    "\n",
    "    C = ((delta1 + math.sqrt(delta1**2 - 4*delta0**3))/2)**(1/3)\n",
    "    \n",
    "    x1 = (-1/(3*a)) * (b + u1*C + delta0/(u1*C))\n",
    "    x2 = (-1/(3*a)) * (b + u2*C + delta0/(u2*C))\n",
    "    x3 = (-1/(3*a)) * (b + u3*C + delta0/(u3*C))\n",
    "    \n",
    "    print(x1, x2, x3)\n",
    "\n",
    "s1 = input(\"Enter A: Ax^3 \")\n",
    "s2 = input(\"Enter B: Bx^2\")\n",
    "s3 = input(\"Enter C: Cx^1\")\n",
    "s4 = input(\"Enter D: D\")\n",
    "\n",
    "darage_3(s1, s2, s3, s4)\n"
   ]
  }
 ],
 "metadata": {
  "kernelspec": {
   "display_name": "Pylearn",
   "language": "python",
   "name": "python3"
  },
  "language_info": {
   "codemirror_mode": {
    "name": "ipython",
    "version": 3
   },
   "file_extension": ".py",
   "mimetype": "text/x-python",
   "name": "python",
   "nbconvert_exporter": "python",
   "pygments_lexer": "ipython3",
   "version": "3.11.5"
  }
 },
 "nbformat": 4,
 "nbformat_minor": 2
}
